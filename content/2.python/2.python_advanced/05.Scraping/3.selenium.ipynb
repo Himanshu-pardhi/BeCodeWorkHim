{
 "cells": [
  {
   "cell_type": "markdown",
   "metadata": {},
   "source": [
    "# Scraping with Selenium\n",
    "\n",
    "Selenium is a tool initially created to automate tests on websites. It is therefore very useful when information is accessible by clicking on links. A button for example is an element from which it is very difficult to obtain the link. BeautifulSoup then becomes limited.\n",
    "In this case, use Selenium."
   ]
  },
  {
   "cell_type": "markdown",
   "metadata": {},
   "source": [
    "### Load libraries\n",
    "\n",
    "If you are missing any libraries in the next cell, you'll need to install them before continuing."
   ]
  },
  {
   "cell_type": "code",
   "execution_count": 6,
   "metadata": {},
   "outputs": [],
   "source": [
    "import bs4\n",
    "import requests\n",
    "from bs4 import BeautifulSoup as np\n",
    "import pandas as pd\n",
    "import json\n",
    "import re\n",
    "import lxml.html\n",
    "import time\n",
    "import random\n",
    "from random import randint\n",
    "import logging\n",
    "import collections\n",
    "from time import gmtime, strftime\n",
    "\n",
    "import re\n",
    "from tabulate import tabulate\n",
    "import os\n",
    "\n",
    "date = strftime(\"%Y-%m-%d\")"
   ]
  },
  {
   "cell_type": "markdown",
   "metadata": {},
   "source": [
    "### Install Selenium according to this manual\n",
    "\n",
    "https://selenium-python.readthedocs.io/installation.html#downloading-python-bindings-for-selenium/bin\n",
    "\n",
    "*NB: On Linux, put your `geckodriver` (the downloaded extension) in the equivalent path on your machine into `/home/<YOUR_NAME>/.local/bin/`*"
   ]
  },
  {
   "cell_type": "markdown",
   "metadata": {},
   "source": [
    "We will simulate a search on the official Python website."
   ]
  },
  {
   "cell_type": "code",
   "execution_count": 18,
   "metadata": {},
   "outputs": [
    {
     "name": "stderr",
     "output_type": "stream",
     "text": [
      "C:\\Users\\himan\\AppData\\Local\\Temp\\ipykernel_18260\\1362107842.py:25: DeprecationWarning: find_element_by_name is deprecated. Please use find_element(by=By.NAME, value=name) instead\n",
      "  elem = driver.find_element_by_name(\"q\")\n"
     ]
    }
   ],
   "source": [
    "import selenium\n",
    "\n",
    "# The selenium.webdriver module provides all the implementations of WebDriver\n",
    "# Currently supported are Firefox, Chrome, IE and Remote. The `Keys` class provides keys on\n",
    "# the keyboard such as RETURN, F1, ALT etc.\n",
    "from selenium import webdriver\n",
    "from selenium.webdriver.common.keys import Keys\n",
    "\n",
    "# Here, we create instance of Firefox WebDriver.\n",
    "driver = webdriver.Firefox()\n",
    "\n",
    "# The driver.get method will lead to a page given by the URL. WebDriver will wait until the page is fully\n",
    "# loaded (i.e. the \"onload\" event has been triggered) before returning the control to your script.\n",
    "# It should be noted that if your page uses a lot of AJAX calls when loading, WebDriver may not know\n",
    "# when it was fully loaded.\n",
    "driver.get(\"http://www.python.org\")\n",
    "\n",
    "# The following line is a statement confirming that the title contains the word \"Python\".\n",
    "assert \"Python\" in driver.title\n",
    "\n",
    "# WebDriver offers several methods to search for items using one of the methods\n",
    "# `find_element_by_...` .\n",
    "# For example, the input text element can be located by its name attribute by\n",
    "# using the `find_element_by_name` method.\n",
    "elem = driver.find_element_by_name(\"q\")\n",
    "\n",
    "# Then we send keys. This is similar to entering keys using your keyboard.\n",
    "# Special keys can be sent using the `Keys` class imported in line 7 (from selenium.webdriver.common.keys import Keys).\n",
    "# For security reasons, we will delete any pre-filled text in the input field\n",
    "# (for example, \"Search\") so that it does not affect our search results:\n",
    "elem.clear()\n",
    "elem.send_keys(\"pycon\")\n",
    "elem.send_keys(Keys.RETURN)\n",
    "\n",
    "# After submitting the page, you should get the result if there is one. To ensure that certain results\n",
    "# are found, make an assertion:\n",
    "assert \"No results found.\" not in driver.page_source\n",
    "driver.close()"
   ]
  },
  {
   "cell_type": "markdown",
   "metadata": {},
   "source": [
    "#### Open the source code of the webpage and check that the search area (field) is called \"q\"."
   ]
  },
  {
   "cell_type": "code",
   "execution_count": 16,
   "metadata": {},
   "outputs": [
    {
     "ename": "SyntaxError",
     "evalue": "invalid syntax (3600034672.py, line 1)",
     "output_type": "error",
     "traceback": [
      "\u001b[1;36m  Input \u001b[1;32mIn [16]\u001b[1;36m\u001b[0m\n\u001b[1;33m    <input id=\"id-search-field\" name=\"q\" type=\"search\" role=\"textbox\" class=\"search-field\" placeholder=\"Search\" value=\"pycon\" tabindex=\"1\">\u001b[0m\n\u001b[1;37m    ^\u001b[0m\n\u001b[1;31mSyntaxError\u001b[0m\u001b[1;31m:\u001b[0m invalid syntax\n"
     ]
    }
   ],
   "source": [
    "<input id=\"id-search-field\" name=\"q\" type=\"search\" role=\"textbox\" class=\"search-field\" placeholder=\"Search\" value=\"pycon\" tabindex=\"1\">"
   ]
  },
  {
   "cell_type": "markdown",
   "metadata": {},
   "source": [
    "### Getting a phone number from *leboncoin*"
   ]
  },
  {
   "cell_type": "code",
   "execution_count": 5,
   "metadata": {},
   "outputs": [
    {
     "name": "stderr",
     "output_type": "stream",
     "text": [
      "C:\\Users\\himan\\AppData\\Local\\Temp\\ipykernel_15376\\1331487445.py:15: DeprecationWarning: find_elements_by_xpath is deprecated. Please use find_elements(by=By.XPATH, value=xpath) instead\n",
      "  python_button = driver.find_elements_by_xpath('//div[@data-reactid=\"269\"]')[0]\n"
     ]
    },
    {
     "ename": "IndexError",
     "evalue": "list index out of range",
     "output_type": "error",
     "traceback": [
      "\u001b[1;31m---------------------------------------------------------------------------\u001b[0m",
      "\u001b[1;31mIndexError\u001b[0m                                Traceback (most recent call last)",
      "\u001b[1;32mc:\\Users\\himan\\OneDrive\\Desktop\\BeCode\\BeCodeWorkHim\\content\\2.python\\2.python_advanced\\05.Scraping\\3.selenium.ipynb Cell 10'\u001b[0m in \u001b[0;36m<cell line: 15>\u001b[1;34m()\u001b[0m\n\u001b[0;32m     <a href='vscode-notebook-cell:/c%3A/Users/himan/OneDrive/Desktop/BeCode/BeCodeWorkHim/content/2.python/2.python_advanced/05.Scraping/3.selenium.ipynb#ch0000009?line=11'>12</a>\u001b[0m driver\u001b[39m.\u001b[39mimplicitly_wait(\u001b[39m30\u001b[39m)\n\u001b[0;32m     <a href='vscode-notebook-cell:/c%3A/Users/himan/OneDrive/Desktop/BeCode/BeCodeWorkHim/content/2.python/2.python_advanced/05.Scraping/3.selenium.ipynb#ch0000009?line=12'>13</a>\u001b[0m driver\u001b[39m.\u001b[39mget(url)\n\u001b[1;32m---> <a href='vscode-notebook-cell:/c%3A/Users/himan/OneDrive/Desktop/BeCode/BeCodeWorkHim/content/2.python/2.python_advanced/05.Scraping/3.selenium.ipynb#ch0000009?line=14'>15</a>\u001b[0m python_button \u001b[39m=\u001b[39m driver\u001b[39m.\u001b[39;49mfind_elements_by_xpath(\u001b[39m'\u001b[39;49m\u001b[39m//div[@data-reactid=\u001b[39;49m\u001b[39m\"\u001b[39;49m\u001b[39m269\u001b[39;49m\u001b[39m\"\u001b[39;49m\u001b[39m]\u001b[39;49m\u001b[39m'\u001b[39;49m)[\u001b[39m0\u001b[39;49m]\n\u001b[0;32m     <a href='vscode-notebook-cell:/c%3A/Users/himan/OneDrive/Desktop/BeCode/BeCodeWorkHim/content/2.python/2.python_advanced/05.Scraping/3.selenium.ipynb#ch0000009?line=15'>16</a>\u001b[0m python_button\u001b[39m.\u001b[39mclick()\n\u001b[0;32m     <a href='vscode-notebook-cell:/c%3A/Users/himan/OneDrive/Desktop/BeCode/BeCodeWorkHim/content/2.python/2.python_advanced/05.Scraping/3.selenium.ipynb#ch0000009?line=17'>18</a>\u001b[0m \u001b[39m# And then we use Beautiful soup\u001b[39;00m\n",
      "\u001b[1;31mIndexError\u001b[0m: list index out of range"
     ]
    }
   ],
   "source": [
    "from selenium import webdriver\n",
    "from selenium.webdriver.support.ui import WebDriverWait\n",
    "from selenium.webdriver.support import expected_conditions as EC\n",
    "from selenium.common.exceptions import TimeoutException\n",
    "from selenium.webdriver.common.by import By\n",
    "from bs4 import BeautifulSoup\n",
    "\n",
    "url = \"https://www.leboncoin.fr/sports_hobbies/1536839557.htm/\"\n",
    "\n",
    "\n",
    "driver = webdriver.Firefox()\n",
    "driver.implicitly_wait(30)\n",
    "driver.get(url)\n",
    "\n",
    "python_button = driver.find_elements_by_xpath('//div[@data-reactid=\"269\"]')[0]\n",
    "python_button.click()\n",
    "\n",
    "# And then we use Beautiful soup\n",
    "soup = BeautifulSoup(driver.page_source)\n",
    "\n",
    "driver.close()\n",
    "\n",
    "for elem in soup.find_all(\"a\", attrs={\"data-qa-id\": \"adview_number_phone_contact\"}):\n",
    "    print(elem.text)"
   ]
  },
  {
   "cell_type": "markdown",
   "metadata": {},
   "source": [
    "### Starting from *leboncoin*, collect all the information available to define the product being sold. Use `selenium` for the telephone number."
   ]
  },
  {
   "cell_type": "code",
   "execution_count": 6,
   "metadata": {},
   "outputs": [
    {
     "name": "stderr",
     "output_type": "stream",
     "text": [
      "C:\\Users\\himan\\AppData\\Local\\Temp\\ipykernel_15376\\3493053215.py:14: DeprecationWarning: find_elements_by_xpath is deprecated. Please use find_elements(by=By.XPATH, value=xpath) instead\n",
      "  python_button = driver.find_elements_by_xpath('/html/body/div[1]/div[1]/div/div/main/div[1]/div[3]/div/div/div[2]/div/div[2]/div[2]/button[2]')[0]\n"
     ]
    }
   ],
   "source": [
    "from selenium import webdriver\n",
    "from selenium.webdriver.support.ui import WebDriverWait\n",
    "from selenium.webdriver.support import expected_conditions as EC\n",
    "from selenium.common.exceptions import TimeoutException\n",
    "from selenium.webdriver.common.by import By\n",
    "from bs4 import BeautifulSoup\n",
    "\n",
    "url = \"https://www.immoweb.be/en/classified/house/for-sale/boom/2850/9903423\"\n",
    "\n",
    "driver = webdriver.Firefox()\n",
    "driver.implicitly_wait(30)\n",
    "driver.get(url)\n",
    "\n",
    "python_button = driver.find_elements_by_xpath('/html/body/div[1]/div[1]/div/div/main/div[1]/div[3]/div/div/div[2]/div/div[2]/div[2]/button[2]')[0]\n",
    "python_button.click()\n",
    "\n",
    "# And then we use Beautiful soup\n",
    "soup = BeautifulSoup(driver.page_source)\n",
    "\n",
    "driver.close()\n",
    "\n",
    "for elem in soup.find_all(\"a\", attrs={\"data-qa-id\": \"adview_number_phone_contact\"}):\n",
    "    print(elem.text)"
   ]
  },
  {
   "cell_type": "markdown",
   "metadata": {},
   "source": [
    "### API (Application Program Interface)"
   ]
  },
  {
   "cell_type": "markdown",
   "metadata": {},
   "source": [
    "A set of tools and methods that allow different applications to interact with each other. In the case of a web service, we can retrieve data dynamically. By using an API correctly, we can thus obtain in real time, the modifications made on a \"parent\" site.\n",
    "\n",
    "For example, we will retrieve online news, for example from the \"L'équipe\" website."
   ]
  },
  {
   "cell_type": "markdown",
   "metadata": {},
   "source": [
    "Follow the instructions at https://newsapi.org/s/lequipe-api to retrieve an \"API key\" connection key"
   ]
  },
  {
   "cell_type": "markdown",
   "metadata": {},
   "source": [
    "Your API key is: `73bbb95f8ecb49b499113a46481b4af1`\n",
    "\n",
    "\n",
    "It is frequent that a key does not work after a while (e.g. `5 min`n `30 min`, a day, ...)\n",
    "So don't jump up if you get an error message back."
   ]
  },
  {
   "cell_type": "code",
   "execution_count": 23,
   "metadata": {},
   "outputs": [
    {
     "name": "stdout",
     "output_type": "stream",
     "text": [
      "{'status': 'ok', 'totalResults': 10, 'articles': [{'source': {'id': 'lequipe', 'name': \"L'equipe\"}, 'author': \"L'EQUIPE\", 'title': \"Chris Evert, atteinte d'un cancer des ovaires, a terminé sa chimiothérapie\", 'description': \"L'ancienne numéro\\xa01 mondiale Chris Evert a annoncé lundi qu'elle avait effectué sa dernière séance de chimiothérapie.\", 'url': 'https://www.lequipe.fr/Tennis/Actualites/Chris-evert-atteinte-d-un-cancer-des-ovaires-a-termine-sa-chimiotherapie/1332271', 'urlToImage': 'https://medias.lequipe.fr/img-photo-jpg/chris-evert-ici-au-commentaire-lors-de-l-us-open-2020-avait-revele-etre-atteinte-d-un-cancer-en-janv/1500000001640551/0:0,1994:1329-640-427-75/cf109.jpg', 'publishedAt': '2022-05-10T09:14:00+00:00', 'content': \"Chris Evert a franchi une étape importante dans son combat contre un cancer des ovaires, qu'elle avait révélé en janvier dernier. Lundi soir, l'ancienne numéro\\xa01 mondiale (67 ans) a annoncé avoir ter… [+755 chars]\"}, {'source': {'id': 'lequipe', 'name': \"L'equipe\"}, 'author': \"L'EQUIPE\", 'title': \"L'ancienne star de NFL Brett Favre poursuivie par l'État du Mississippi pour des subventions indues\", 'description': \"Brett Favre, l'ancien quarterback vedette des Green Bay Packers, fait l'objet d'une plainte de l'État du Mississippi dans une affaire de subventions indues.\", 'url': 'https://www.lequipe.fr/Football-americain/Actualites/L-ancienne-star-de-nfl-brett-favre-poursuivie-par-l-etat-du-mississippi-pour-des-subventions-indues/1332270', 'urlToImage': 'https://medias.lequipe.fr/img-photo-jpg/brett-favre-en-2016-a-dr-avec-le-quarterback-de-dallas-dak-prescott-lors-de-sa-ceremonie-d-intronisa/1500000001640542/0:0,1997:1331-640-427-75/abf9b.jpg', 'publishedAt': '2022-05-10T08:39:00+00:00', 'content': \"Favre (52 ans), qui a longtemps vécu dans le Mississippi, avait reçu 1,1\\xa0million de dollars d'une agence de l'État afin de donner des discours et d'assurer sa présence à des manifestations, des prest… [+192 chars]\"}, {'source': {'id': 'lequipe', 'name': \"L'equipe\"}, 'author': \"L'EQUIPE\", 'title': \"Mohammed El Arouch, milieu de terrain de l'OL, prolonge jusqu'en juin\\xa02025\", 'description': \"Mohamed El Arouch, international français U18, a prolongé ce mardi son contrat avec l'Olympique lyonnais jusqu'en 2025. Il a inscrit ce week-end un but en finale de la Coupe Gambardella, remportée par l'OL.\", 'url': 'https://www.lequipe.fr/Football/Actualites/Mohammed-el-arouch-milieu-de-terrain-de-l-ol-prolonge-jusqu-en-juin-2025/1332269', 'urlToImage': 'https://medias.lequipe.fr/img-photo-jpg/mohamed-el-arouch-est-arrive-a-l-ol-a-l-age-de-13-ans-b-papon-l-equipe/1500000001640541/0:0,1994:1329-640-427-75/855c8.jpg', 'publishedAt': '2022-05-10T08:28:00+00:00', 'content': \"Présent à la reprise avec le groupe professionnel, l'international français U18 a disputé depuis 8 matches de National\\xa02 (2 buts) et 13 rencontres avec le groupe U19 (Championnat et Coupe Gambardella… [+176 chars]\"}, {'source': {'id': 'lequipe', 'name': \"L'equipe\"}, 'author': \"L'EQUIPE\", 'title': 'Colorado balaie Nashville et se qualifie pour le deuxième tour des play-offs de NHL', 'description': 'Le Colorado Avalanche a dominé les Nashville Predators pour la quatrième fois de suite, lundi soir (5-3). Il est le premier qualifié pour le deuxième tour des play-offs.', 'url': 'https://www.lequipe.fr/Hockey-sur-glace/Actualites/Colorado-balaie-nashville-et-se-qualifie-pour-le-deuxieme-tour-des-play-offs-de-nhl/1332265', 'urlToImage': 'https://medias.lequipe.fr/img-photo-jpg/cale-makar-et-colorado-filent-au-deuxieme-tour-apres-leur-demonstration-contre-nashville-c-hanewinck/1500000001640523/0:0,1997:1331-640-427-75/2a075.jpg', 'publishedAt': '2022-05-10T07:23:00+00:00', 'content': \"L'Avalanche du Colorado a emporté Nashville et va continuer à déferler au deuxième tour des play-offs de NHL. Lundi soir, les coéquipiers d'Andre Burakovsky, auteur d'un shoot si puissant qu'il a tra… [+2514 chars]\"}, {'source': {'id': 'lequipe', 'name': \"L'equipe\"}, 'author': \"L'EQUIPE\", 'title': \"Le président de la Ligue anglaise assure que la League Cup n'est pas mise en danger\", 'description': \"Nick Parry, président de la Ligue de football anglaise, a indiqué que la compétition n'était pas remise en question par la réforme de la Ligue des champions. Mais il a préciser qu'elle doit évoluer pour pouvoir se maintenir dans le calendrier anglais.\", 'url': 'https://www.lequipe.fr/Football/Actualites/Le-president-de-la-ligue-anglaise-assure-que-la-league-cup-n-est-pas-mise-en-danger/1332263', 'urlToImage': 'https://medias.lequipe.fr/img-photo-jpg/jurgen-klopp-et-liverpool-ont-remporte-la-carabao-cup-aux-depens-de-chelsea-en-finale-d-klein-reuter/1500000001640512/0:0,1998:1332-640-427-75/fd0c1.jpg', 'publishedAt': '2022-05-10T06:23:00+00:00', 'content': \"«\\xa0Nous sommes réalistes, nous savons que 2024 arrive. L'UEFA n'aime pas les Coupes de la Ligue en général, a explique le président de la Ligue de football anglaise Nick Parry à la BBC. Je ne pense pa… [+293 chars]\"}, {'source': {'id': 'lequipe', 'name': \"L'equipe\"}, 'author': \"L'EQUIPE\", 'title': 'Golden State renverse Memphis et prend le large dans la série en NBA', 'description': 'Malmenés à domicile par les Memphis Grizzlies, les Golden State Warriors ont renversé le scénario en toute fin de match lundi soir (101-98). Les Californiens mènent trois victoires à une dans la série.', 'url': 'https://www.lequipe.fr/Basket/Actualites/Golden-state-renverse-memphis-et-prend-le-large-dans-la-serie-en-nba/1332261', 'urlToImage': 'https://medias.lequipe.fr/img-photo-jpg/les-warriors-de-draymond-green-ont-galere-avant-de-s-imposer-face-a-steven-adams-et-memphis-k-terada/1500000001640511/0:0,1995:1330-640-427-75/51279.jpg', 'publishedAt': '2022-05-10T04:47:00+00:00', 'content': 'Golden State est lancé sur la route de la finale de Conférence Ouest, trois ans après. Mais les Warriors ont bien failli verser dans le fossé, lundi soir dans leur Chase Center face à des Memphis Gri… [+2803 chars]'}, {'source': {'id': 'lequipe', 'name': \"L'equipe\"}, 'author': \"L'EQUIPE\", 'title': \"Boston s'impose à Milwaukee et égalise dans la série en NBA\", 'description': 'Vainqueurs à Milwaukee lundi soir (116-108), les Boston Celtics reviennent à deux victoires partout dans leur série de demi-finales de Conférence Est.', 'url': 'https://www.lequipe.fr/Basket/Actualites/Boston-s-impose-a-milwaukee-et-egalise-dans-la-serie-en-nba/1332260', 'urlToImage': 'https://medias.lequipe.fr/img-video-cover/1500000001640545/640/0', 'publishedAt': '2022-05-10T04:20:00+00:00', 'content': \"Le mano a mano se poursuit dans la demi-finale de Conférence Est entre Boston et Milwaukee, où chaque équipe s'impose à tour de rôle. Lundi soir, les Celtics ont parfaitement réagi en remportant le m… [+1659 chars]\"}, {'source': {'id': 'lequipe', 'name': \"L'equipe\"}, 'author': \"L'EQUIPE\", 'title': 'Ligue\\xa02\\xa0: Sochaux et Auxerre évolueront à guichets fermés samedi', 'description': \"Samedi prochain, Sochaux et Auxerre accueilleront respectivement Dijon et Amiens dans le cadre de la 38e et ultime journée de Ligue\\xa02. Pour ces rencontres, décisives pour la montée, le stade Bonal et l'Abbé-Deschamps seront à guichets fermés.\", 'url': 'https://www.lequipe.fr/Football/Actualites/Ligue-2-sochaux-et-auxerre-evolueront-a-guichets-fermes-samedi/1332258', 'urlToImage': 'https://medias.lequipe.fr/img-photo-jpg/samedi-le-stade-bonal-sera-rempli-a-ras-bord-l-argueyrolles-l-equipe/1500000001640495/0:0,1995:1330-640-427-75/dfc40.jpg', 'publishedAt': '2022-05-09T22:10:00+00:00', 'content': \"Ce lundi, le FC Sochaux-Montbéliard et l'AJ Auxerre ont annoncé que leurs derniers matches de la saison samedi, respectivement face à Dijon et Amiens, se joueront à guichets fermés. Concrètement, 20\\xa0… [+523 chars]\"}, {'source': {'id': 'lequipe', 'name': \"L'equipe\"}, 'author': \"L'EQUIPE\", 'title': 'Rétabli, Alfred Gomis postule contre Nantes', 'description': \"Remis d'une fracture à une main, le gardien numéro un rennais Alfred Gomis devrait retrouver son poste pour les trois derniers matches de la saison.\", 'url': 'https://www.lequipe.fr/Football/Actualites/Retabli-alfred-gomis-postule-contre-nantes/1332240', 'urlToImage': 'https://medias.lequipe.fr/img-photo-jpg/alfred-gomis-devrait-reprendre-sa-place-dans-les-buts-rennais-a-martin-l-equipe/1500000001640467/70:69,1390:950-640-427-75/0017a.jpg', 'publishedAt': '2022-05-09T22:00:00+00:00', 'content': \"Alfred Gomis s'était fracturé une main en ratant une sortie dans laquelle il avait percuté l'attaquant lyonnais Moussa Dembélé (4-2, à Lyon, le 13\\xa0mars), lui offrant un penalty, et Rennes n'était pas… [+2204 chars]\"}, {'source': {'id': 'lequipe', 'name': \"L'equipe\"}, 'author': \"L'EQUIPE\", 'title': 'Le flash sports du 10\\xa0mai', 'description': \"Retrouvez l'essentiel de l'actualité sportive dans votre flash quotidien.\", 'url': 'https://www.lequipe.fr/Tous-sports/Actualites/Le-flash-sports-du-10-mai/1332257', 'urlToImage': 'https://medias.lequipe.fr/img-photo-jpg/flash-sports-l-equipe/1500000001640490/0:0,1997:1331-640-427-75/b57a3.jpg', 'publishedAt': '2022-05-09T21:50:00+00:00', 'content': \"Les coureurs du Giro à l'assaut de l'Etna (4e étape)\\xa0; Paris Basket joue son maintien dans l'élite contre Limoges (20h30)\\xa0; le Masters 1000 de Rome se tient sans aucun joueur français, et le récit de… [+98 chars]\"}]}\n"
     ]
    }
   ],
   "source": [
    "import requests\n",
    "\n",
    "key = \"73bbb95f8ecb49b499113a46481b4af1\"\n",
    "url = \"https://newsapi.org/v2/top-headlines?sources=lequipe&apiKey=\" + key\n",
    "response = requests.get(url)\n",
    "\n",
    "# Here the response format is a json file, it is used as a dictionary\n",
    "print(response.json())"
   ]
  },
  {
   "cell_type": "code",
   "execution_count": 24,
   "metadata": {},
   "outputs": [
    {
     "name": "stdout",
     "output_type": "stream",
     "text": [
      "dict_keys(['status', 'totalResults', 'articles'])\n"
     ]
    }
   ],
   "source": [
    "dictionnary = response.json()\n",
    "print(dictionnary.keys())"
   ]
  },
  {
   "cell_type": "code",
   "execution_count": 25,
   "metadata": {},
   "outputs": [
    {
     "name": "stdout",
     "output_type": "stream",
     "text": [
      "##############################################\n",
      "Key:  status // Values:  ok\n",
      "##############################################\n",
      "Key:  totalResults // Values:  10\n",
      "##############################################\n",
      "Key:  articles // Values:  [{'source': {'id': 'lequipe', 'name': \"L'equipe\"}, 'author': \"L'EQUIPE\", 'title': \"Chris Evert, atteinte d'un cancer des ovaires, a terminé sa chimiothérapie\", 'description': \"L'ancienne numéro\\xa01 mondiale Chris Evert a annoncé lundi qu'elle avait effectué sa dernière séance de chimiothérapie.\", 'url': 'https://www.lequipe.fr/Tennis/Actualites/Chris-evert-atteinte-d-un-cancer-des-ovaires-a-termine-sa-chimiotherapie/1332271', 'urlToImage': 'https://medias.lequipe.fr/img-photo-jpg/chris-evert-ici-au-commentaire-lors-de-l-us-open-2020-avait-revele-etre-atteinte-d-un-cancer-en-janv/1500000001640551/0:0,1994:1329-640-427-75/cf109.jpg', 'publishedAt': '2022-05-10T09:14:00+00:00', 'content': \"Chris Evert a franchi une étape importante dans son combat contre un cancer des ovaires, qu'elle avait révélé en janvier dernier. Lundi soir, l'ancienne numéro\\xa01 mondiale (67 ans) a annoncé avoir ter… [+755 chars]\"}, {'source': {'id': 'lequipe', 'name': \"L'equipe\"}, 'author': \"L'EQUIPE\", 'title': \"L'ancienne star de NFL Brett Favre poursuivie par l'État du Mississippi pour des subventions indues\", 'description': \"Brett Favre, l'ancien quarterback vedette des Green Bay Packers, fait l'objet d'une plainte de l'État du Mississippi dans une affaire de subventions indues.\", 'url': 'https://www.lequipe.fr/Football-americain/Actualites/L-ancienne-star-de-nfl-brett-favre-poursuivie-par-l-etat-du-mississippi-pour-des-subventions-indues/1332270', 'urlToImage': 'https://medias.lequipe.fr/img-photo-jpg/brett-favre-en-2016-a-dr-avec-le-quarterback-de-dallas-dak-prescott-lors-de-sa-ceremonie-d-intronisa/1500000001640542/0:0,1997:1331-640-427-75/abf9b.jpg', 'publishedAt': '2022-05-10T08:39:00+00:00', 'content': \"Favre (52 ans), qui a longtemps vécu dans le Mississippi, avait reçu 1,1\\xa0million de dollars d'une agence de l'État afin de donner des discours et d'assurer sa présence à des manifestations, des prest… [+192 chars]\"}, {'source': {'id': 'lequipe', 'name': \"L'equipe\"}, 'author': \"L'EQUIPE\", 'title': \"Mohammed El Arouch, milieu de terrain de l'OL, prolonge jusqu'en juin\\xa02025\", 'description': \"Mohamed El Arouch, international français U18, a prolongé ce mardi son contrat avec l'Olympique lyonnais jusqu'en 2025. Il a inscrit ce week-end un but en finale de la Coupe Gambardella, remportée par l'OL.\", 'url': 'https://www.lequipe.fr/Football/Actualites/Mohammed-el-arouch-milieu-de-terrain-de-l-ol-prolonge-jusqu-en-juin-2025/1332269', 'urlToImage': 'https://medias.lequipe.fr/img-photo-jpg/mohamed-el-arouch-est-arrive-a-l-ol-a-l-age-de-13-ans-b-papon-l-equipe/1500000001640541/0:0,1994:1329-640-427-75/855c8.jpg', 'publishedAt': '2022-05-10T08:28:00+00:00', 'content': \"Présent à la reprise avec le groupe professionnel, l'international français U18 a disputé depuis 8 matches de National\\xa02 (2 buts) et 13 rencontres avec le groupe U19 (Championnat et Coupe Gambardella… [+176 chars]\"}, {'source': {'id': 'lequipe', 'name': \"L'equipe\"}, 'author': \"L'EQUIPE\", 'title': 'Colorado balaie Nashville et se qualifie pour le deuxième tour des play-offs de NHL', 'description': 'Le Colorado Avalanche a dominé les Nashville Predators pour la quatrième fois de suite, lundi soir (5-3). Il est le premier qualifié pour le deuxième tour des play-offs.', 'url': 'https://www.lequipe.fr/Hockey-sur-glace/Actualites/Colorado-balaie-nashville-et-se-qualifie-pour-le-deuxieme-tour-des-play-offs-de-nhl/1332265', 'urlToImage': 'https://medias.lequipe.fr/img-photo-jpg/cale-makar-et-colorado-filent-au-deuxieme-tour-apres-leur-demonstration-contre-nashville-c-hanewinck/1500000001640523/0:0,1997:1331-640-427-75/2a075.jpg', 'publishedAt': '2022-05-10T07:23:00+00:00', 'content': \"L'Avalanche du Colorado a emporté Nashville et va continuer à déferler au deuxième tour des play-offs de NHL. Lundi soir, les coéquipiers d'Andre Burakovsky, auteur d'un shoot si puissant qu'il a tra… [+2514 chars]\"}, {'source': {'id': 'lequipe', 'name': \"L'equipe\"}, 'author': \"L'EQUIPE\", 'title': \"Le président de la Ligue anglaise assure que la League Cup n'est pas mise en danger\", 'description': \"Nick Parry, président de la Ligue de football anglaise, a indiqué que la compétition n'était pas remise en question par la réforme de la Ligue des champions. Mais il a préciser qu'elle doit évoluer pour pouvoir se maintenir dans le calendrier anglais.\", 'url': 'https://www.lequipe.fr/Football/Actualites/Le-president-de-la-ligue-anglaise-assure-que-la-league-cup-n-est-pas-mise-en-danger/1332263', 'urlToImage': 'https://medias.lequipe.fr/img-photo-jpg/jurgen-klopp-et-liverpool-ont-remporte-la-carabao-cup-aux-depens-de-chelsea-en-finale-d-klein-reuter/1500000001640512/0:0,1998:1332-640-427-75/fd0c1.jpg', 'publishedAt': '2022-05-10T06:23:00+00:00', 'content': \"«\\xa0Nous sommes réalistes, nous savons que 2024 arrive. L'UEFA n'aime pas les Coupes de la Ligue en général, a explique le président de la Ligue de football anglaise Nick Parry à la BBC. Je ne pense pa… [+293 chars]\"}, {'source': {'id': 'lequipe', 'name': \"L'equipe\"}, 'author': \"L'EQUIPE\", 'title': 'Golden State renverse Memphis et prend le large dans la série en NBA', 'description': 'Malmenés à domicile par les Memphis Grizzlies, les Golden State Warriors ont renversé le scénario en toute fin de match lundi soir (101-98). Les Californiens mènent trois victoires à une dans la série.', 'url': 'https://www.lequipe.fr/Basket/Actualites/Golden-state-renverse-memphis-et-prend-le-large-dans-la-serie-en-nba/1332261', 'urlToImage': 'https://medias.lequipe.fr/img-photo-jpg/les-warriors-de-draymond-green-ont-galere-avant-de-s-imposer-face-a-steven-adams-et-memphis-k-terada/1500000001640511/0:0,1995:1330-640-427-75/51279.jpg', 'publishedAt': '2022-05-10T04:47:00+00:00', 'content': 'Golden State est lancé sur la route de la finale de Conférence Ouest, trois ans après. Mais les Warriors ont bien failli verser dans le fossé, lundi soir dans leur Chase Center face à des Memphis Gri… [+2803 chars]'}, {'source': {'id': 'lequipe', 'name': \"L'equipe\"}, 'author': \"L'EQUIPE\", 'title': \"Boston s'impose à Milwaukee et égalise dans la série en NBA\", 'description': 'Vainqueurs à Milwaukee lundi soir (116-108), les Boston Celtics reviennent à deux victoires partout dans leur série de demi-finales de Conférence Est.', 'url': 'https://www.lequipe.fr/Basket/Actualites/Boston-s-impose-a-milwaukee-et-egalise-dans-la-serie-en-nba/1332260', 'urlToImage': 'https://medias.lequipe.fr/img-video-cover/1500000001640545/640/0', 'publishedAt': '2022-05-10T04:20:00+00:00', 'content': \"Le mano a mano se poursuit dans la demi-finale de Conférence Est entre Boston et Milwaukee, où chaque équipe s'impose à tour de rôle. Lundi soir, les Celtics ont parfaitement réagi en remportant le m… [+1659 chars]\"}, {'source': {'id': 'lequipe', 'name': \"L'equipe\"}, 'author': \"L'EQUIPE\", 'title': 'Ligue\\xa02\\xa0: Sochaux et Auxerre évolueront à guichets fermés samedi', 'description': \"Samedi prochain, Sochaux et Auxerre accueilleront respectivement Dijon et Amiens dans le cadre de la 38e et ultime journée de Ligue\\xa02. Pour ces rencontres, décisives pour la montée, le stade Bonal et l'Abbé-Deschamps seront à guichets fermés.\", 'url': 'https://www.lequipe.fr/Football/Actualites/Ligue-2-sochaux-et-auxerre-evolueront-a-guichets-fermes-samedi/1332258', 'urlToImage': 'https://medias.lequipe.fr/img-photo-jpg/samedi-le-stade-bonal-sera-rempli-a-ras-bord-l-argueyrolles-l-equipe/1500000001640495/0:0,1995:1330-640-427-75/dfc40.jpg', 'publishedAt': '2022-05-09T22:10:00+00:00', 'content': \"Ce lundi, le FC Sochaux-Montbéliard et l'AJ Auxerre ont annoncé que leurs derniers matches de la saison samedi, respectivement face à Dijon et Amiens, se joueront à guichets fermés. Concrètement, 20\\xa0… [+523 chars]\"}, {'source': {'id': 'lequipe', 'name': \"L'equipe\"}, 'author': \"L'EQUIPE\", 'title': 'Rétabli, Alfred Gomis postule contre Nantes', 'description': \"Remis d'une fracture à une main, le gardien numéro un rennais Alfred Gomis devrait retrouver son poste pour les trois derniers matches de la saison.\", 'url': 'https://www.lequipe.fr/Football/Actualites/Retabli-alfred-gomis-postule-contre-nantes/1332240', 'urlToImage': 'https://medias.lequipe.fr/img-photo-jpg/alfred-gomis-devrait-reprendre-sa-place-dans-les-buts-rennais-a-martin-l-equipe/1500000001640467/70:69,1390:950-640-427-75/0017a.jpg', 'publishedAt': '2022-05-09T22:00:00+00:00', 'content': \"Alfred Gomis s'était fracturé une main en ratant une sortie dans laquelle il avait percuté l'attaquant lyonnais Moussa Dembélé (4-2, à Lyon, le 13\\xa0mars), lui offrant un penalty, et Rennes n'était pas… [+2204 chars]\"}, {'source': {'id': 'lequipe', 'name': \"L'equipe\"}, 'author': \"L'EQUIPE\", 'title': 'Le flash sports du 10\\xa0mai', 'description': \"Retrouvez l'essentiel de l'actualité sportive dans votre flash quotidien.\", 'url': 'https://www.lequipe.fr/Tous-sports/Actualites/Le-flash-sports-du-10-mai/1332257', 'urlToImage': 'https://medias.lequipe.fr/img-photo-jpg/flash-sports-l-equipe/1500000001640490/0:0,1997:1331-640-427-75/b57a3.jpg', 'publishedAt': '2022-05-09T21:50:00+00:00', 'content': \"Les coureurs du Giro à l'assaut de l'Etna (4e étape)\\xa0; Paris Basket joue son maintien dans l'élite contre Limoges (20h30)\\xa0; le Masters 1000 de Rome se tient sans aucun joueur français, et le récit de… [+98 chars]\"}]\n"
     ]
    }
   ],
   "source": [
    "for element in list(dictionnary.keys()):\n",
    "    print(\"##############################################\")\n",
    "    print(\"Key: \", element, \"// Values: \", dictionnary[element])"
   ]
  },
  {
   "cell_type": "code",
   "execution_count": 26,
   "metadata": {},
   "outputs": [
    {
     "name": "stdout",
     "output_type": "stream",
     "text": [
      "###############################################\n",
      "(0, {'source': {'id': 'lequipe', 'name': \"L'equipe\"}, 'author': \"L'EQUIPE\", 'title': \"Chris Evert, atteinte d'un cancer des ovaires, a terminé sa chimiothérapie\", 'description': \"L'ancienne numéro\\xa01 mondiale Chris Evert a annoncé lundi qu'elle avait effectué sa dernière séance de chimiothérapie.\", 'url': 'https://www.lequipe.fr/Tennis/Actualites/Chris-evert-atteinte-d-un-cancer-des-ovaires-a-termine-sa-chimiotherapie/1332271', 'urlToImage': 'https://medias.lequipe.fr/img-photo-jpg/chris-evert-ici-au-commentaire-lors-de-l-us-open-2020-avait-revele-etre-atteinte-d-un-cancer-en-janv/1500000001640551/0:0,1994:1329-640-427-75/cf109.jpg', 'publishedAt': '2022-05-10T09:14:00+00:00', 'content': \"Chris Evert a franchi une étape importante dans son combat contre un cancer des ovaires, qu'elle avait révélé en janvier dernier. Lundi soir, l'ancienne numéro\\xa01 mondiale (67 ans) a annoncé avoir ter… [+755 chars]\"})\n",
      "###############################################\n",
      "(1, {'source': {'id': 'lequipe', 'name': \"L'equipe\"}, 'author': \"L'EQUIPE\", 'title': \"L'ancienne star de NFL Brett Favre poursuivie par l'État du Mississippi pour des subventions indues\", 'description': \"Brett Favre, l'ancien quarterback vedette des Green Bay Packers, fait l'objet d'une plainte de l'État du Mississippi dans une affaire de subventions indues.\", 'url': 'https://www.lequipe.fr/Football-americain/Actualites/L-ancienne-star-de-nfl-brett-favre-poursuivie-par-l-etat-du-mississippi-pour-des-subventions-indues/1332270', 'urlToImage': 'https://medias.lequipe.fr/img-photo-jpg/brett-favre-en-2016-a-dr-avec-le-quarterback-de-dallas-dak-prescott-lors-de-sa-ceremonie-d-intronisa/1500000001640542/0:0,1997:1331-640-427-75/abf9b.jpg', 'publishedAt': '2022-05-10T08:39:00+00:00', 'content': \"Favre (52 ans), qui a longtemps vécu dans le Mississippi, avait reçu 1,1\\xa0million de dollars d'une agence de l'État afin de donner des discours et d'assurer sa présence à des manifestations, des prest… [+192 chars]\"})\n",
      "###############################################\n",
      "(2, {'source': {'id': 'lequipe', 'name': \"L'equipe\"}, 'author': \"L'EQUIPE\", 'title': \"Mohammed El Arouch, milieu de terrain de l'OL, prolonge jusqu'en juin\\xa02025\", 'description': \"Mohamed El Arouch, international français U18, a prolongé ce mardi son contrat avec l'Olympique lyonnais jusqu'en 2025. Il a inscrit ce week-end un but en finale de la Coupe Gambardella, remportée par l'OL.\", 'url': 'https://www.lequipe.fr/Football/Actualites/Mohammed-el-arouch-milieu-de-terrain-de-l-ol-prolonge-jusqu-en-juin-2025/1332269', 'urlToImage': 'https://medias.lequipe.fr/img-photo-jpg/mohamed-el-arouch-est-arrive-a-l-ol-a-l-age-de-13-ans-b-papon-l-equipe/1500000001640541/0:0,1994:1329-640-427-75/855c8.jpg', 'publishedAt': '2022-05-10T08:28:00+00:00', 'content': \"Présent à la reprise avec le groupe professionnel, l'international français U18 a disputé depuis 8 matches de National\\xa02 (2 buts) et 13 rencontres avec le groupe U19 (Championnat et Coupe Gambardella… [+176 chars]\"})\n",
      "###############################################\n",
      "(3, {'source': {'id': 'lequipe', 'name': \"L'equipe\"}, 'author': \"L'EQUIPE\", 'title': 'Colorado balaie Nashville et se qualifie pour le deuxième tour des play-offs de NHL', 'description': 'Le Colorado Avalanche a dominé les Nashville Predators pour la quatrième fois de suite, lundi soir (5-3). Il est le premier qualifié pour le deuxième tour des play-offs.', 'url': 'https://www.lequipe.fr/Hockey-sur-glace/Actualites/Colorado-balaie-nashville-et-se-qualifie-pour-le-deuxieme-tour-des-play-offs-de-nhl/1332265', 'urlToImage': 'https://medias.lequipe.fr/img-photo-jpg/cale-makar-et-colorado-filent-au-deuxieme-tour-apres-leur-demonstration-contre-nashville-c-hanewinck/1500000001640523/0:0,1997:1331-640-427-75/2a075.jpg', 'publishedAt': '2022-05-10T07:23:00+00:00', 'content': \"L'Avalanche du Colorado a emporté Nashville et va continuer à déferler au deuxième tour des play-offs de NHL. Lundi soir, les coéquipiers d'Andre Burakovsky, auteur d'un shoot si puissant qu'il a tra… [+2514 chars]\"})\n",
      "###############################################\n",
      "(4, {'source': {'id': 'lequipe', 'name': \"L'equipe\"}, 'author': \"L'EQUIPE\", 'title': \"Le président de la Ligue anglaise assure que la League Cup n'est pas mise en danger\", 'description': \"Nick Parry, président de la Ligue de football anglaise, a indiqué que la compétition n'était pas remise en question par la réforme de la Ligue des champions. Mais il a préciser qu'elle doit évoluer pour pouvoir se maintenir dans le calendrier anglais.\", 'url': 'https://www.lequipe.fr/Football/Actualites/Le-president-de-la-ligue-anglaise-assure-que-la-league-cup-n-est-pas-mise-en-danger/1332263', 'urlToImage': 'https://medias.lequipe.fr/img-photo-jpg/jurgen-klopp-et-liverpool-ont-remporte-la-carabao-cup-aux-depens-de-chelsea-en-finale-d-klein-reuter/1500000001640512/0:0,1998:1332-640-427-75/fd0c1.jpg', 'publishedAt': '2022-05-10T06:23:00+00:00', 'content': \"«\\xa0Nous sommes réalistes, nous savons que 2024 arrive. L'UEFA n'aime pas les Coupes de la Ligue en général, a explique le président de la Ligue de football anglaise Nick Parry à la BBC. Je ne pense pa… [+293 chars]\"})\n",
      "###############################################\n",
      "(5, {'source': {'id': 'lequipe', 'name': \"L'equipe\"}, 'author': \"L'EQUIPE\", 'title': 'Golden State renverse Memphis et prend le large dans la série en NBA', 'description': 'Malmenés à domicile par les Memphis Grizzlies, les Golden State Warriors ont renversé le scénario en toute fin de match lundi soir (101-98). Les Californiens mènent trois victoires à une dans la série.', 'url': 'https://www.lequipe.fr/Basket/Actualites/Golden-state-renverse-memphis-et-prend-le-large-dans-la-serie-en-nba/1332261', 'urlToImage': 'https://medias.lequipe.fr/img-photo-jpg/les-warriors-de-draymond-green-ont-galere-avant-de-s-imposer-face-a-steven-adams-et-memphis-k-terada/1500000001640511/0:0,1995:1330-640-427-75/51279.jpg', 'publishedAt': '2022-05-10T04:47:00+00:00', 'content': 'Golden State est lancé sur la route de la finale de Conférence Ouest, trois ans après. Mais les Warriors ont bien failli verser dans le fossé, lundi soir dans leur Chase Center face à des Memphis Gri… [+2803 chars]'})\n",
      "###############################################\n",
      "(6, {'source': {'id': 'lequipe', 'name': \"L'equipe\"}, 'author': \"L'EQUIPE\", 'title': \"Boston s'impose à Milwaukee et égalise dans la série en NBA\", 'description': 'Vainqueurs à Milwaukee lundi soir (116-108), les Boston Celtics reviennent à deux victoires partout dans leur série de demi-finales de Conférence Est.', 'url': 'https://www.lequipe.fr/Basket/Actualites/Boston-s-impose-a-milwaukee-et-egalise-dans-la-serie-en-nba/1332260', 'urlToImage': 'https://medias.lequipe.fr/img-video-cover/1500000001640545/640/0', 'publishedAt': '2022-05-10T04:20:00+00:00', 'content': \"Le mano a mano se poursuit dans la demi-finale de Conférence Est entre Boston et Milwaukee, où chaque équipe s'impose à tour de rôle. Lundi soir, les Celtics ont parfaitement réagi en remportant le m… [+1659 chars]\"})\n",
      "###############################################\n",
      "(7, {'source': {'id': 'lequipe', 'name': \"L'equipe\"}, 'author': \"L'EQUIPE\", 'title': 'Ligue\\xa02\\xa0: Sochaux et Auxerre évolueront à guichets fermés samedi', 'description': \"Samedi prochain, Sochaux et Auxerre accueilleront respectivement Dijon et Amiens dans le cadre de la 38e et ultime journée de Ligue\\xa02. Pour ces rencontres, décisives pour la montée, le stade Bonal et l'Abbé-Deschamps seront à guichets fermés.\", 'url': 'https://www.lequipe.fr/Football/Actualites/Ligue-2-sochaux-et-auxerre-evolueront-a-guichets-fermes-samedi/1332258', 'urlToImage': 'https://medias.lequipe.fr/img-photo-jpg/samedi-le-stade-bonal-sera-rempli-a-ras-bord-l-argueyrolles-l-equipe/1500000001640495/0:0,1995:1330-640-427-75/dfc40.jpg', 'publishedAt': '2022-05-09T22:10:00+00:00', 'content': \"Ce lundi, le FC Sochaux-Montbéliard et l'AJ Auxerre ont annoncé que leurs derniers matches de la saison samedi, respectivement face à Dijon et Amiens, se joueront à guichets fermés. Concrètement, 20\\xa0… [+523 chars]\"})\n",
      "###############################################\n",
      "(8, {'source': {'id': 'lequipe', 'name': \"L'equipe\"}, 'author': \"L'EQUIPE\", 'title': 'Rétabli, Alfred Gomis postule contre Nantes', 'description': \"Remis d'une fracture à une main, le gardien numéro un rennais Alfred Gomis devrait retrouver son poste pour les trois derniers matches de la saison.\", 'url': 'https://www.lequipe.fr/Football/Actualites/Retabli-alfred-gomis-postule-contre-nantes/1332240', 'urlToImage': 'https://medias.lequipe.fr/img-photo-jpg/alfred-gomis-devrait-reprendre-sa-place-dans-les-buts-rennais-a-martin-l-equipe/1500000001640467/70:69,1390:950-640-427-75/0017a.jpg', 'publishedAt': '2022-05-09T22:00:00+00:00', 'content': \"Alfred Gomis s'était fracturé une main en ratant une sortie dans laquelle il avait percuté l'attaquant lyonnais Moussa Dembélé (4-2, à Lyon, le 13\\xa0mars), lui offrant un penalty, et Rennes n'était pas… [+2204 chars]\"})\n",
      "###############################################\n",
      "(9, {'source': {'id': 'lequipe', 'name': \"L'equipe\"}, 'author': \"L'EQUIPE\", 'title': 'Le flash sports du 10\\xa0mai', 'description': \"Retrouvez l'essentiel de l'actualité sportive dans votre flash quotidien.\", 'url': 'https://www.lequipe.fr/Tous-sports/Actualites/Le-flash-sports-du-10-mai/1332257', 'urlToImage': 'https://medias.lequipe.fr/img-photo-jpg/flash-sports-l-equipe/1500000001640490/0:0,1997:1331-640-427-75/b57a3.jpg', 'publishedAt': '2022-05-09T21:50:00+00:00', 'content': \"Les coureurs du Giro à l'assaut de l'Etna (4e étape)\\xa0; Paris Basket joue son maintien dans l'élite contre Limoges (20h30)\\xa0; le Masters 1000 de Rome se tient sans aucun joueur français, et le récit de… [+98 chars]\"})\n"
     ]
    }
   ],
   "source": [
    "# And now we have lists in dictionaries(it's a JSON file actually but it's very similar)\n",
    "# We will discover the information of the article key.\n",
    "\n",
    "for element in enumerate(dictionnary[\"articles\"]):\n",
    "    print(\"###############################################\")\n",
    "    print(element)"
   ]
  },
  {
   "cell_type": "code",
   "execution_count": 27,
   "metadata": {},
   "outputs": [
    {
     "name": "stdout",
     "output_type": "stream",
     "text": [
      " Key :  source Values :  {'id': 'lequipe', 'name': \"L'equipe\"}\n",
      " Key :  author Values :  L'EQUIPE\n",
      " Key :  title Values :  Chris Evert, atteinte d'un cancer des ovaires, a terminé sa chimiothérapie\n",
      " Key :  description Values :  L'ancienne numéro 1 mondiale Chris Evert a annoncé lundi qu'elle avait effectué sa dernière séance de chimiothérapie.\n",
      " Key :  url Values :  https://www.lequipe.fr/Tennis/Actualites/Chris-evert-atteinte-d-un-cancer-des-ovaires-a-termine-sa-chimiotherapie/1332271\n",
      " Key :  urlToImage Values :  https://medias.lequipe.fr/img-photo-jpg/chris-evert-ici-au-commentaire-lors-de-l-us-open-2020-avait-revele-etre-atteinte-d-un-cancer-en-janv/1500000001640551/0:0,1994:1329-640-427-75/cf109.jpg\n",
      " Key :  publishedAt Values :  2022-05-10T09:14:00+00:00\n",
      " Key :  content Values :  Chris Evert a franchi une étape importante dans son combat contre un cancer des ovaires, qu'elle avait révélé en janvier dernier. Lundi soir, l'ancienne numéro 1 mondiale (67 ans) a annoncé avoir ter… [+755 chars]\n"
     ]
    }
   ],
   "source": [
    "# So if we keep going, it gives us another dictionary!\n",
    "for element in dictionnary[\"articles\"][0].keys():\n",
    "    print(\" Key : \", element, \"Values : \", dictionnary[\"articles\"][0][element])"
   ]
  },
  {
   "cell_type": "markdown",
   "metadata": {},
   "source": [
    "### Make a script that allows you to take details of the last ten news from the team or another site. Store them in a nice CSV or excel file."
   ]
  },
  {
   "cell_type": "code",
   "execution_count": null,
   "metadata": {},
   "outputs": [],
   "source": []
  }
 ],
 "metadata": {
  "interpreter": {
   "hash": "26de051ba29f2982a8de78e945f0abaf191376122a1563185a90213a26c5da77"
  },
  "kernelspec": {
   "display_name": "Python 3.10.2 64-bit",
   "language": "python",
   "name": "python3"
  },
  "language_info": {
   "codemirror_mode": {
    "name": "ipython",
    "version": 3
   },
   "file_extension": ".py",
   "mimetype": "text/x-python",
   "name": "python",
   "nbconvert_exporter": "python",
   "pygments_lexer": "ipython3",
   "version": "3.10.2"
  }
 },
 "nbformat": 4,
 "nbformat_minor": 2
}
