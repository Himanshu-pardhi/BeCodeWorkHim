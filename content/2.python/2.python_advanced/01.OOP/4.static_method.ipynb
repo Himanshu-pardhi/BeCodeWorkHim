{
 "cells": [
  {
   "cell_type": "markdown",
   "metadata": {},
   "source": [
    "# What is a static method in python?\n",
    "\n",
    "Static methods are methods within a class that have no access to anything else in the class (no `self` keyword or `cls` keyword). \n",
    "\n",
    "- They cannot change or look at any object attributes or call other methods within the class. \n",
    "- They can be thought of as a special kind of function that sits inside of the class. \n",
    "- When we create a static method we must use something called a [decorator](https://realpython.com/primer-on-python-decorators/#syntactic-sugar). The decorator for a static method is `@staticmethod`. Don't worry about it, you will see more about it later in the course.\n",
    "\n",
    "In other words, you can create a callable class using the static method and use it with some restrictions. It helps developers write code in a safe architectural way to prevent conflicts in the code.\n",
    "\n",
    "(We'll go deeper into the decorators later.)"
   ]
  },
  {
   "cell_type": "code",
   "execution_count": 1,
   "metadata": {},
   "outputs": [],
   "source": [
    "class Calculator:\n",
    "    \"\"\"\n",
    "    Class that contains methods to perform basic operations.\n",
    "    \"\"\"\n",
    "\n",
    "    @staticmethod\n",
    "    def multiply(number_one, number_two):\n",
    "        result = number_one * number_two\n",
    "        print(f\"Muliply: {result}\")\n",
    "\n",
    "    @staticmethod\n",
    "    def add(number_one, number_two):\n",
    "        result = number_one + number_two\n",
    "        print(f\"Addition: {result}\")"
   ]
  },
  {
   "cell_type": "code",
   "execution_count": 2,
   "metadata": {},
   "outputs": [
    {
     "name": "stdout",
     "output_type": "stream",
     "text": [
      "Muliply: 10\n",
      "Addition: 7\n"
     ]
    }
   ],
   "source": [
    "Calculator.multiply(2, 5)\n",
    "\n",
    "Calculator.add(2, 5)"
   ]
  },
  {
   "cell_type": "code",
   "execution_count": null,
   "metadata": {},
   "outputs": [],
   "source": [
    "class weather:\n",
    "    \"\"\"\n",
    "    Class that contains methods to perform basic operations.\n",
    "    \"\"\"\n",
    "\n",
    "    @staticmethod\n",
    "    def multiply(number_one, number_two):\n",
    "        result = number_one * number_two\n",
    "        print(f\"Muliply: {result}\")\n",
    "\n",
    "    @staticmethod\n",
    "    def add(number_one, number_two):\n",
    "        result = number_one + number_two\n",
    "        print(f\"Addition: {result}\")"
   ]
  },
  {
   "cell_type": "markdown",
   "metadata": {},
   "source": [
    "Check another program to use the built-in `staticmethod()` function."
   ]
  },
  {
   "cell_type": "code",
   "execution_count": 4,
   "metadata": {},
   "outputs": [
    {
     "name": "stdout",
     "output_type": "stream",
     "text": [
      "Middle Age\n"
     ]
    }
   ],
   "source": [
    "class Person:\n",
    "    \"\"\"\n",
    "    Class that defines a person who has an age defined by the age() method.\n",
    "    \"\"\"\n",
    "\n",
    "    def age(age_number):\n",
    "        if age_number <= 30:\n",
    "            print(\"Young\")\n",
    "\n",
    "        elif age_number <= 50:\n",
    "            print(\"Middle Age\")\n",
    "\n",
    "        else:\n",
    "            print(\"Senior Age\")\n",
    "\n",
    "\n",
    "John = Person\n",
    "age_category = staticmethod(John.age(45))"
   ]
  },
  {
   "cell_type": "code",
   "execution_count": 12,
   "metadata": {},
   "outputs": [
    {
     "name": "stdout",
     "output_type": "stream",
     "text": [
      "i5 , 16gb , 1TB\n",
      "i5 , 16gb , 1TB\n"
     ]
    }
   ],
   "source": [
    "class Computer: # creating class , class contains attributes -->Variables & Behaviour --> Methods (Function) \n",
    "                ## if any function calling in a class. instead of function it's called as Methods.\n",
    "\n",
    "    def config(self):\n",
    "        print (\"i5 , 16gb , 1TB\")\n",
    "\n",
    "com1 = Computer()   #it's constructor. com1 is object of class computer doesn't has type\n",
    "\n",
    "# print(type(com1)) == <class '__main__.Computer'>\n",
    "\n",
    "com2 = Computer()\n",
    "\n",
    "#Computer.config(com1) # calling method  (but not recomended)\n",
    "# Computer.config(com1)\n",
    "\n",
    "com1.config() # calling config method. config taking com1 se argument\n",
    "com2.config() # calling config method, config taking com2 se argument\n"
   ]
  },
  {
   "cell_type": "code",
   "execution_count": 22,
   "metadata": {},
   "outputs": [
    {
     "name": "stdout",
     "output_type": "stream",
     "text": [
      "Congif is  i5 16\n",
      "Congif is  Ryzen 3 8\n"
     ]
    }
   ],
   "source": [
    "class Computer: # creating class , class contains attributes -->Variables & Behaviour --> Methods (Function) \n",
    "                ## if any function calling in a class. instead of function it's called as Methods.\n",
    "\n",
    "    def __init__(self, cpu, ram):  # it will called automatocaly , constructor . Special name = __name__ , special variable = __init__\n",
    "        self.cpu = cpu     # assign value to object\n",
    "        self.ram = ram\n",
    "\n",
    "    def config(self): # we need to call explicitaly\n",
    "        print (\"Congif is \", self.cpu, self.ram )\n",
    "\n",
    "com1 = Computer(\"i5\" , 16)  # seems 2 arguments passed but actually 3 argumeents paseed \"i5\", 16 , self\n",
    "com2 = Computer(\"Ryzen 3\" , 8)\n",
    "\n",
    "#Computer.config(com1) # calling method  (but not recomended)\n",
    "# Computer.config(com1)\n",
    "\n",
    "com1.config() # calling config method. config taking com1 se argument\n",
    "com2.config() # calling config method, config taking com2 se argument\n"
   ]
  },
  {
   "cell_type": "code",
   "execution_count": 21,
   "metadata": {},
   "outputs": [
    {
     "name": "stdout",
     "output_type": "stream",
     "text": [
      "2452087597344\n"
     ]
    }
   ],
   "source": [
    "# consrtutor & self \n",
    "class Computer:   #class can not be empty\n",
    "    pass\n",
    "\n",
    "c1 = Computer() # constructor always alocate the memory in heap, it calls init method always\n",
    "\n",
    " print(id(c1)) # every time it will show different address of heap memory, \n",
    "\n",
    "\n"
   ]
  },
  {
   "cell_type": "code",
   "execution_count": 30,
   "metadata": {},
   "outputs": [
    {
     "name": "stdout",
     "output_type": "stream",
     "text": [
      "Rashi\n",
      "Navin\n"
     ]
    }
   ],
   "source": [
    "class Computer:   #class can not be empty\n",
    "   \n",
    "   def __init__(self):\n",
    "        self.name = \"Navin\"\n",
    "        self.age = 28\n",
    "\n",
    "c1 = Computer() # constructor always alocate the memory in heap, it calls init method always\n",
    "c2 = Computer()\n",
    "\n",
    "c1.name = \"Rashi\"\n",
    "c1.age = 12\n",
    "\n",
    "print(c1.name)\n",
    "print(c2.name)\n",
    "\n"
   ]
  },
  {
   "cell_type": "code",
   "execution_count": 34,
   "metadata": {},
   "outputs": [
    {
     "name": "stdout",
     "output_type": "stream",
     "text": [
      "BMW 8 5\n",
      "BMW 10 5\n"
     ]
    }
   ],
   "source": [
    "#static and class variables\n",
    "class Car:\n",
    "\n",
    "    wheels = 4      ##class/ static variable\n",
    "\n",
    "    def __init__(self):\n",
    "        self.mil = 10        #instance variable\n",
    "        self.com = \"BMW\"    #instance/object variable\n",
    "\n",
    "c1 = Car()\n",
    "c2 = Car()\n",
    "\n",
    "c1.mil = 8\n",
    "\n",
    "Car.wheels = 5  #updated value of class variable whith will effecct all instance variable\n",
    "\n",
    "print(c1.com , c1.mil, c1.wheels)\n",
    "print(c2.com , c2.mil, c1.wheels)"
   ]
  },
  {
   "cell_type": "code",
   "execution_count": 35,
   "metadata": {},
   "outputs": [
    {
     "name": "stdout",
     "output_type": "stream",
     "text": [
      "34\n"
     ]
    }
   ],
   "source": [
    "#instance method (works for object)\n",
    "class Students:\n",
    "    def __init__(self, m1,m2,m3):\n",
    "        self.m1 = m1\n",
    "        self.m2 = m2\n",
    "\n",
    "        self.m3 = m3\n",
    "\n",
    "s1 = Students(34,67,32)\n",
    "s2 = Students(89,32,12)\n",
    "\n",
    "print(s1.m1)"
   ]
  },
  {
   "cell_type": "code",
   "execution_count": 42,
   "metadata": {},
   "outputs": [
    {
     "name": "stdout",
     "output_type": "stream",
     "text": [
      "<bound method Students.getSchool of <class '__main__.Students'>>\n"
     ]
    }
   ],
   "source": [
    "#class method ()\n",
    "class Students:\n",
    "\n",
    "    school = \"KNV\"\n",
    "\n",
    "    def __init__(self, m1,m2,m3):\n",
    "        self.m1 = m1\n",
    "        self.m2 = m2\n",
    "        self.m3 = m3\n",
    "\n",
    "    @classmethod\n",
    "    def getSchool(cls):\n",
    "        return cls.getSchool\n",
    "\n",
    "    @staticmethod\n",
    "    def info():\n",
    "        print(\"This is stu class.. in abc module\")\n",
    "\n",
    "s1 = Students(34,67,32)\n",
    "s2 = Students(89,32,12)\n",
    "\n",
    "print(Students.getSchool())\n"
   ]
  },
  {
   "cell_type": "code",
   "execution_count": null,
   "metadata": {},
   "outputs": [],
   "source": []
  },
  {
   "cell_type": "code",
   "execution_count": null,
   "metadata": {},
   "outputs": [],
   "source": []
  },
  {
   "cell_type": "markdown",
   "metadata": {},
   "source": [
    "## Next steps\n",
    "\n",
    "* **MANDATORY:** Now that you understand what is static method, let's dive deeper. For that, [read this article](https://www.programiz.com/python-programming/methods/built-in/staticmethod#:~:text=What%20is%20a%20static%20method,the%20state%20of%20the%20object.).\n",
    "* **MANDATORY:** Read about **class method**. You can read [this well made article](https://www.programiz.com/python-programming/methods/built-in/classmethod) or make your own research!"
   ]
  }
 ],
 "metadata": {
  "kernelspec": {
   "display_name": "Python 3",
   "language": "python",
   "name": "python3"
  },
  "language_info": {
   "codemirror_mode": {
    "name": "ipython",
    "version": 3
   },
   "file_extension": ".py",
   "mimetype": "text/x-python",
   "name": "python",
   "nbconvert_exporter": "python",
   "pygments_lexer": "ipython3",
   "version": "3.10.2"
  }
 },
 "nbformat": 4,
 "nbformat_minor": 2
}
