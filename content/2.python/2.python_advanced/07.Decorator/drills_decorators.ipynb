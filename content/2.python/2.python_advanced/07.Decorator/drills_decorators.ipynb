{
 "cells": [
  {
   "cell_type": "markdown",
   "metadata": {},
   "source": [
    "# Drill - Decorators\n",
    "\n",
    "### Exercise 1\n",
    "Create a decorator that limits the execution of a function:\n",
    "\n",
    "When the function is executed too many times, an exception is thrown. The decorator must take one parameter, which is the number of times it is executed."
   ]
  },
  {
   "cell_type": "code",
   "execution_count": 2,
   "metadata": {},
   "outputs": [
    {
     "name": "stdout",
     "output_type": "stream",
     "text": [
      "Hello Deco_in\n",
      "Hello count\n"
     ]
    }
   ],
   "source": [
    "def My_decorator(count):\n",
    "    def deco_in() : \n",
    "        print(\"Hello Deco_in\")\n",
    "        count()\n",
    "    return deco_in\n",
    "\n",
    "@My_decorator\n",
    "def count ():\n",
    "    print (\"Hello count\")\n",
    "\n",
    "count()"
   ]
  },
  {
   "cell_type": "code",
   "execution_count": 3,
   "metadata": {},
   "outputs": [
    {
     "name": "stdout",
     "output_type": "stream",
     "text": [
      "welcome here!\n",
      "welcome here!\n",
      "welcome here!\n",
      "welcome here!\n",
      "welcome here!\n",
      "welcome here!\n",
      "limit exceted!\n"
     ]
    }
   ],
   "source": [
    "#from functools import wraps\n",
    "\n",
    "def decorator_count(method):\n",
    "    def wrapped():\n",
    "        count = 1\n",
    "        while count<=6:\n",
    "            method()\n",
    "            count +=1\n",
    "\n",
    "        print(\"limit exceted!\") \n",
    "\n",
    "    return wrapped\n",
    "\n",
    "@decorator_count\n",
    "def Welcome():\n",
    "    print(\"welcome here!\")\n",
    "\n",
    "Welcome()"
   ]
  },
  {
   "cell_type": "markdown",
   "metadata": {},
   "source": [
    "### Exercise 2\n",
    "Create a decorator that controls what a function returns. The decorator must throw an exception if the function returns a string or an int."
   ]
  },
  {
   "cell_type": "code",
   "execution_count": null,
   "metadata": {},
   "outputs": [],
   "source": []
  },
  {
   "cell_type": "markdown",
   "metadata": {},
   "source": [
    "### Exercise 3\n",
    "A decorator that displays the time it took for the function to run (basic)."
   ]
  },
  {
   "cell_type": "code",
   "execution_count": null,
   "metadata": {},
   "outputs": [],
   "source": []
  }
 ],
 "metadata": {
  "interpreter": {
   "hash": "26de051ba29f2982a8de78e945f0abaf191376122a1563185a90213a26c5da77"
  },
  "kernelspec": {
   "display_name": "Python 3.10.2 64-bit",
   "language": "python",
   "name": "python3"
  },
  "language_info": {
   "codemirror_mode": {
    "name": "ipython",
    "version": 3
   },
   "file_extension": ".py",
   "mimetype": "text/x-python",
   "name": "python",
   "nbconvert_exporter": "python",
   "pygments_lexer": "ipython3",
   "version": "3.10.2"
  }
 },
 "nbformat": 4,
 "nbformat_minor": 2
}
