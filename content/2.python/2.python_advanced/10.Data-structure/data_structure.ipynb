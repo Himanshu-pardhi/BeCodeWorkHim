{
 "cells": [
  {
   "cell_type": "markdown",
   "metadata": {},
   "source": [
    "# The data structure"
   ]
  },
  {
   "cell_type": "markdown",
   "metadata": {},
   "source": [
    "The data structure is the way we store and structure our data. It's really important because it will define how your functions and machine learning systems will be able to access your data. It can be a simple one-liner when you need to test something or it can be a real mess with 10 functions just to format you data and feed you model the correct way."
   ]
  },
  {
   "cell_type": "markdown",
   "metadata": {},
   "source": [
    "## The problem"
   ]
  },
  {
   "cell_type": "markdown",
   "metadata": {},
   "source": [
    "Let's say we have a great model that recognizes faces from an image. You want to store that in a structured way so we can plot our results, store them in a database, create a script that shows us all the faces detected to see if the model is accurate, etc..."
   ]
  },
  {
   "cell_type": "markdown",
   "metadata": {},
   "source": [
    "## Solutions"
   ]
  },
  {
   "cell_type": "code",
   "execution_count": 1,
   "metadata": {},
   "outputs": [],
   "source": [
    "from typing import List, Dict, Optional"
   ]
  },
  {
   "cell_type": "markdown",
   "metadata": {},
   "source": [
    "### Dictionary"
   ]
  },
  {
   "cell_type": "markdown",
   "metadata": {},
   "source": [
    "The first idea that you could have is to create a dictionary with the data in it:"
   ]
  },
  {
   "cell_type": "code",
   "execution_count": 2,
   "metadata": {},
   "outputs": [
    {
     "data": {
      "text/plain": [
       "240000"
      ]
     },
     "execution_count": 2,
     "metadata": {},
     "output_type": "execute_result"
    }
   ],
   "source": [
    "# A dictionnary to store your data\n",
    "my_image: dict = {\n",
    "    \"name\": \"image 1\",\n",
    "    \"height\": 800,\n",
    "    \"width\": 300,\n",
    "    \"resolution\": 800 * 300,\n",
    "    \"face_detected\": [\n",
    "        {\"x0\": 10, \"x1\": 60, \"y0\": 200, \"y1\": 250},\n",
    "        {\"x0\": 10, \"x1\": 60, \"y0\": 300, \"y1\": 350},\n",
    "    ],\n",
    "    \"confidence_score\": 1.0,\n",
    "}\n",
    "\n",
    "my_image[\"resolution\"]"
   ]
  },
  {
   "cell_type": "markdown",
   "metadata": {},
   "source": [
    "It workd but you can't type each property (at least not easily), you will need to create a different dictionary each time, you can make typos in the keys, and many more difficulties. It's not a good data structure if you're going to use it often."
   ]
  },
  {
   "cell_type": "markdown",
   "metadata": {},
   "source": [
    "### Class"
   ]
  },
  {
   "cell_type": "markdown",
   "metadata": {},
   "source": [
    "That's when you will think about a class! You create a class that contains your data fields, then you just have to instantiate it.\n",
    "You can even type each property! It looks like the perfect fit your issue."
   ]
  },
  {
   "cell_type": "code",
   "execution_count": 3,
   "metadata": {},
   "outputs": [
    {
     "data": {
      "text/plain": [
       "240000"
      ]
     },
     "execution_count": 3,
     "metadata": {},
     "output_type": "execute_result"
    }
   ],
   "source": [
    "class Image:\n",
    "    \"\"\"Class that stores the image data.\"\"\"\n",
    "\n",
    "    def __init__(\n",
    "        self,\n",
    "        name: str,\n",
    "        height: int,\n",
    "        width: int,\n",
    "        score: int,\n",
    "        face_detected: List[Dict[str, int]],\n",
    "    ):\n",
    "\n",
    "        self.name = name\n",
    "        self.height = height\n",
    "        self.width = width\n",
    "        self.score = score\n",
    "        self.face_detected = face_detected\n",
    "        self.resolution = self.height * self.width\n",
    "\n",
    "\n",
    "faces = [\n",
    "    {\"x0\": 10, \"x1\": 60, \"y0\": 200, \"y1\": 250},\n",
    "    {\"x0\": 10, \"x1\": 60, \"y0\": 300, \"y1\": 350},\n",
    "]\n",
    "# Instanciate an Image\n",
    "my_image = Image(name=\"image 1\", height=800, width=300, score=10, face_detected=faces)\n",
    "\n",
    "my_image.resolution"
   ]
  },
  {
   "cell_type": "markdown",
   "metadata": {},
   "source": [
    "On one hand, the syntax isn't great, it's heavy, it's big and imagine that you have to define a lot of them to store different kinds of data, you will have a file that contains thousands of lines.\n",
    "ON the other hand, you can keep control of your data, define that if an `Image` is instantiated without a `height`, it will raise an error.\n",
    "\n",
    "Classes have another great feature, you can create attributes made of other attributes."
   ]
  },
  {
   "cell_type": "markdown",
   "metadata": {},
   "source": [
    "### Dataclass"
   ]
  },
  {
   "cell_type": "markdown",
   "metadata": {},
   "source": [
    "Fortunately, Python has an answer to this heavy syntax and it's called `dataclass`. Dataclass is a decorator that you provide to a class. It allows you to create class with a super simple and short syntax."
   ]
  },
  {
   "cell_type": "code",
   "execution_count": 4,
   "metadata": {},
   "outputs": [
    {
     "data": {
      "text/plain": [
       "10"
      ]
     },
     "execution_count": 4,
     "metadata": {},
     "output_type": "execute_result"
    }
   ],
   "source": [
    "from dataclasses import dataclass\n",
    "\n",
    "\n",
    "@dataclass\n",
    "class Image:\n",
    "    \"\"\"Class that store the image's data.\"\"\"\n",
    "\n",
    "    name: str\n",
    "    height: int\n",
    "    width: int\n",
    "    score: int\n",
    "    face_detected: List[Dict[str, int]]\n",
    "    resolution: int\n",
    "\n",
    "\n",
    "faces = [\n",
    "    {\"x0\": 10, \"x1\": 60, \"y0\": 200, \"y1\": 250},\n",
    "    {\"x0\": 10, \"x1\": 60, \"y0\": 300, \"y1\": 350},\n",
    "]\n",
    "# Instanciate an Image\n",
    "my_image = Image(\n",
    "    name=\"image 1\",\n",
    "    height=800,\n",
    "    width=300,\n",
    "    score=10,\n",
    "    resolution=800 * 300,\n",
    "    face_detected=faces,\n",
    ")\n",
    "\n",
    "my_image.face_detected[0][\"x0\"]"
   ]
  },
  {
   "cell_type": "markdown",
   "metadata": {},
   "source": [
    "It could be a perfect fit if there is no relation between attributes. If we didn't use the resolution attribute there for example, it would be better to use a dataclass than a regular class."
   ]
  },
  {
   "cell_type": "markdown",
   "metadata": {},
   "source": [
    "### Named tuple"
   ]
  },
  {
   "cell_type": "markdown",
   "metadata": {},
   "source": [
    "The named tuple is clearly a bad fit here as it only allows us to create a tuple that has attributes and can be called like a class. However, it's a good structure to know because it's good at storing a small amount of data. It will be the perfect fit for our face's coordinate!"
   ]
  },
  {
   "cell_type": "code",
   "execution_count": 2,
   "metadata": {},
   "outputs": [
    {
     "data": {
      "text/plain": [
       "10"
      ]
     },
     "execution_count": 2,
     "metadata": {},
     "output_type": "execute_result"
    }
   ],
   "source": [
    "from collections import namedtuple\n",
    "\n",
    "Coordinate = namedtuple(\"Coordinate\", [\"x0\", \"x1\", \"y0\", \"y1\"])\n",
    "\n",
    "faces = [\n",
    "    Coordinate(10, 60, 200, 250),\n",
    "    Coordinate(10, 60, 300, 350),\n",
    "]\n",
    "\n",
    "faces[0].x0"
   ]
  },
  {
   "cell_type": "markdown",
   "metadata": {},
   "source": [
    "### Merge solutions"
   ]
  },
  {
   "cell_type": "markdown",
   "metadata": {},
   "source": [
    "We can of course merge multiple data types to fit our needs!\n",
    "\n",
    "For example, here my favorite candidate will be a class mixed with named named tuple."
   ]
  },
  {
   "cell_type": "code",
   "execution_count": 3,
   "metadata": {},
   "outputs": [
    {
     "ename": "NameError",
     "evalue": "name 'Optional' is not defined",
     "output_type": "error",
     "traceback": [
      "\u001b[1;31m---------------------------------------------------------------------------\u001b[0m",
      "\u001b[1;31mNameError\u001b[0m                                 Traceback (most recent call last)",
      "\u001b[1;32mc:\\Users\\himan\\OneDrive\\Desktop\\BeCode\\BeCodeWorkHim\\content\\2.python\\2.python_advanced\\10.Data-structure\\data_structure.ipynb Cell 24'\u001b[0m in \u001b[0;36m<cell line: 4>\u001b[1;34m()\u001b[0m\n\u001b[0;32m      <a href='vscode-notebook-cell:/c%3A/Users/himan/OneDrive/Desktop/BeCode/BeCodeWorkHim/content/2.python/2.python_advanced/10.Data-structure/data_structure.ipynb#ch0000023?line=0'>1</a>\u001b[0m Coordinate \u001b[39m=\u001b[39m namedtuple(\u001b[39m\"\u001b[39m\u001b[39mCoordinate\u001b[39m\u001b[39m\"\u001b[39m, [\u001b[39m\"\u001b[39m\u001b[39mx0\u001b[39m\u001b[39m\"\u001b[39m, \u001b[39m\"\u001b[39m\u001b[39mx1\u001b[39m\u001b[39m\"\u001b[39m, \u001b[39m\"\u001b[39m\u001b[39my0\u001b[39m\u001b[39m\"\u001b[39m, \u001b[39m\"\u001b[39m\u001b[39my1\u001b[39m\u001b[39m\"\u001b[39m])\n\u001b[1;32m----> <a href='vscode-notebook-cell:/c%3A/Users/himan/OneDrive/Desktop/BeCode/BeCodeWorkHim/content/2.python/2.python_advanced/10.Data-structure/data_structure.ipynb#ch0000023?line=3'>4</a>\u001b[0m \u001b[39mclass\u001b[39;00m \u001b[39mImage\u001b[39;00m:\n\u001b[0;32m      <a href='vscode-notebook-cell:/c%3A/Users/himan/OneDrive/Desktop/BeCode/BeCodeWorkHim/content/2.python/2.python_advanced/10.Data-structure/data_structure.ipynb#ch0000023?line=4'>5</a>\u001b[0m     \u001b[39m\"\"\"Class that store the image's data.\"\"\"\u001b[39;00m\n\u001b[0;32m      <a href='vscode-notebook-cell:/c%3A/Users/himan/OneDrive/Desktop/BeCode/BeCodeWorkHim/content/2.python/2.python_advanced/10.Data-structure/data_structure.ipynb#ch0000023?line=6'>7</a>\u001b[0m     \u001b[39mdef\u001b[39;00m \u001b[39m__init__\u001b[39m(\n\u001b[0;32m      <a href='vscode-notebook-cell:/c%3A/Users/himan/OneDrive/Desktop/BeCode/BeCodeWorkHim/content/2.python/2.python_advanced/10.Data-structure/data_structure.ipynb#ch0000023?line=7'>8</a>\u001b[0m         \u001b[39mself\u001b[39m,\n\u001b[0;32m      <a href='vscode-notebook-cell:/c%3A/Users/himan/OneDrive/Desktop/BeCode/BeCodeWorkHim/content/2.python/2.python_advanced/10.Data-structure/data_structure.ipynb#ch0000023?line=8'>9</a>\u001b[0m         name: \u001b[39mstr\u001b[39m,\n\u001b[1;32m   (...)\u001b[0m\n\u001b[0;32m     <a href='vscode-notebook-cell:/c%3A/Users/himan/OneDrive/Desktop/BeCode/BeCodeWorkHim/content/2.python/2.python_advanced/10.Data-structure/data_structure.ipynb#ch0000023?line=12'>13</a>\u001b[0m         face_detected: Optional[Coordinate],\n\u001b[0;32m     <a href='vscode-notebook-cell:/c%3A/Users/himan/OneDrive/Desktop/BeCode/BeCodeWorkHim/content/2.python/2.python_advanced/10.Data-structure/data_structure.ipynb#ch0000023?line=13'>14</a>\u001b[0m     ):\n",
      "\u001b[1;32mc:\\Users\\himan\\OneDrive\\Desktop\\BeCode\\BeCodeWorkHim\\content\\2.python\\2.python_advanced\\10.Data-structure\\data_structure.ipynb Cell 24'\u001b[0m in \u001b[0;36mImage\u001b[1;34m()\u001b[0m\n\u001b[0;32m      <a href='vscode-notebook-cell:/c%3A/Users/himan/OneDrive/Desktop/BeCode/BeCodeWorkHim/content/2.python/2.python_advanced/10.Data-structure/data_structure.ipynb#ch0000023?line=3'>4</a>\u001b[0m \u001b[39mclass\u001b[39;00m \u001b[39mImage\u001b[39;00m:\n\u001b[0;32m      <a href='vscode-notebook-cell:/c%3A/Users/himan/OneDrive/Desktop/BeCode/BeCodeWorkHim/content/2.python/2.python_advanced/10.Data-structure/data_structure.ipynb#ch0000023?line=4'>5</a>\u001b[0m     \u001b[39m\"\"\"Class that store the image's data.\"\"\"\u001b[39;00m\n\u001b[0;32m      <a href='vscode-notebook-cell:/c%3A/Users/himan/OneDrive/Desktop/BeCode/BeCodeWorkHim/content/2.python/2.python_advanced/10.Data-structure/data_structure.ipynb#ch0000023?line=6'>7</a>\u001b[0m     \u001b[39mdef\u001b[39;00m \u001b[39m__init__\u001b[39m(\n\u001b[0;32m      <a href='vscode-notebook-cell:/c%3A/Users/himan/OneDrive/Desktop/BeCode/BeCodeWorkHim/content/2.python/2.python_advanced/10.Data-structure/data_structure.ipynb#ch0000023?line=7'>8</a>\u001b[0m         \u001b[39mself\u001b[39m,\n\u001b[0;32m      <a href='vscode-notebook-cell:/c%3A/Users/himan/OneDrive/Desktop/BeCode/BeCodeWorkHim/content/2.python/2.python_advanced/10.Data-structure/data_structure.ipynb#ch0000023?line=8'>9</a>\u001b[0m         name: \u001b[39mstr\u001b[39m,\n\u001b[0;32m     <a href='vscode-notebook-cell:/c%3A/Users/himan/OneDrive/Desktop/BeCode/BeCodeWorkHim/content/2.python/2.python_advanced/10.Data-structure/data_structure.ipynb#ch0000023?line=9'>10</a>\u001b[0m         height: \u001b[39mint\u001b[39m,\n\u001b[0;32m     <a href='vscode-notebook-cell:/c%3A/Users/himan/OneDrive/Desktop/BeCode/BeCodeWorkHim/content/2.python/2.python_advanced/10.Data-structure/data_structure.ipynb#ch0000023?line=10'>11</a>\u001b[0m         width: \u001b[39mint\u001b[39m,\n\u001b[0;32m     <a href='vscode-notebook-cell:/c%3A/Users/himan/OneDrive/Desktop/BeCode/BeCodeWorkHim/content/2.python/2.python_advanced/10.Data-structure/data_structure.ipynb#ch0000023?line=11'>12</a>\u001b[0m         score: \u001b[39mint\u001b[39m,\n\u001b[1;32m---> <a href='vscode-notebook-cell:/c%3A/Users/himan/OneDrive/Desktop/BeCode/BeCodeWorkHim/content/2.python/2.python_advanced/10.Data-structure/data_structure.ipynb#ch0000023?line=12'>13</a>\u001b[0m         face_detected: Optional[Coordinate],\n\u001b[0;32m     <a href='vscode-notebook-cell:/c%3A/Users/himan/OneDrive/Desktop/BeCode/BeCodeWorkHim/content/2.python/2.python_advanced/10.Data-structure/data_structure.ipynb#ch0000023?line=13'>14</a>\u001b[0m     ):\n\u001b[0;32m     <a href='vscode-notebook-cell:/c%3A/Users/himan/OneDrive/Desktop/BeCode/BeCodeWorkHim/content/2.python/2.python_advanced/10.Data-structure/data_structure.ipynb#ch0000023?line=15'>16</a>\u001b[0m         \u001b[39mself\u001b[39m\u001b[39m.\u001b[39mname \u001b[39m=\u001b[39m name\n\u001b[0;32m     <a href='vscode-notebook-cell:/c%3A/Users/himan/OneDrive/Desktop/BeCode/BeCodeWorkHim/content/2.python/2.python_advanced/10.Data-structure/data_structure.ipynb#ch0000023?line=16'>17</a>\u001b[0m         \u001b[39mself\u001b[39m\u001b[39m.\u001b[39mheight \u001b[39m=\u001b[39m height\n",
      "\u001b[1;31mNameError\u001b[0m: name 'Optional' is not defined"
     ]
    }
   ],
   "source": [
    "Coordinate = namedtuple(\"Coordinate\", [\"x0\", \"x1\", \"y0\", \"y1\"])\n",
    "\n",
    "\n",
    "class Image:\n",
    "    \"\"\"Class that store the image's data.\"\"\"\n",
    "\n",
    "    def __init__(\n",
    "        self,\n",
    "        name: str,\n",
    "        height: int,\n",
    "        width: int,\n",
    "        score: int,\n",
    "        face_detected: Optional[Coordinate],\n",
    "    ):\n",
    "\n",
    "        self.name = name\n",
    "        self.height = height\n",
    "        self.width = width\n",
    "        self.score = score\n",
    "        self.face_detected = face_detected\n",
    "        self.resulotion = self.height * self.width\n",
    "\n",
    "\n",
    "faces = [\n",
    "    Coordinate(10, 60, 200, 250),\n",
    "    Coordinate(10, 60, 300, 350),\n",
    "]\n",
    "\n",
    "my_image = Image(name=\"image 1\", height=800, width=300, score=10, face_detected=faces)\n",
    "\n",
    "my_image.face_detected[0].x0"
   ]
  },
  {
   "cell_type": "markdown",
   "metadata": {},
   "source": [
    "## Conclusion"
   ]
  },
  {
   "cell_type": "markdown",
   "metadata": {},
   "source": [
    "99% of the time, the best solution will be to mix multiple data structures to obtain something easy to read, to use and to store. Also, don't forget that the perfect solution doesn't exist! It's all a matter of choices!\n",
    "\n",
    "A good indicator that you need to use a different data structure is when you're adding type hints to your code and you realize that you get something like like this:\n",
    "\n",
    "```python\n",
    "data: Dict[str, List[Dict[str, Dict[str, Tuple[int]]]] = ...\n",
    "```"
   ]
  },
  {
   "cell_type": "markdown",
   "metadata": {},
   "source": [
    "## Additional resources"
   ]
  },
  {
   "cell_type": "markdown",
   "metadata": {},
   "source": [
    "Make sure to have a look to these resources:\n",
    "* https://docs.python.org/3/library/collections.html\n",
    "* https://docs.python.org/3/tutorial/datastructures.html\n",
    "* https://www.edureka.co/blog/data-structures-in-python/"
   ]
  }
 ],
 "metadata": {
  "interpreter": {
   "hash": "26de051ba29f2982a8de78e945f0abaf191376122a1563185a90213a26c5da77"
  },
  "kernelspec": {
   "display_name": "Python 3.10.2 64-bit",
   "language": "python",
   "name": "python3"
  },
  "language_info": {
   "codemirror_mode": {
    "name": "ipython",
    "version": 3
   },
   "file_extension": ".py",
   "mimetype": "text/x-python",
   "name": "python",
   "nbconvert_exporter": "python",
   "pygments_lexer": "ipython3",
   "version": "3.10.2"
  }
 },
 "nbformat": 4,
 "nbformat_minor": 4
}
