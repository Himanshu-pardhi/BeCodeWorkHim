{
 "cells": [
  {
   "cell_type": "markdown",
   "metadata": {},
   "source": [
    "# Drill - Threading\n",
    "\n"
   ]
  },
  {
   "cell_type": "markdown",
   "metadata": {},
   "source": [
    "### Exercise 1\n",
    "In the `data/` folder, you have 10 files that contain Shakespears sonnets. You have to gather all these files into one file `data_all.txt` using threads. Be careful, the sonnets must appear in order."
   ]
  },
  {
   "cell_type": "code",
   "execution_count": 7,
   "metadata": {},
   "outputs": [
    {
     "name": "stdout",
     "output_type": "stream",
     "text": [
      "data_part_1.txt\n",
      "data_part_1.txt\n",
      "data_part_10.txt\n",
      "data_part_10.txt\n",
      "data_part_2.txt\n",
      "data_part_2.txt\n",
      "data_part_3.txt\n",
      "data_part_3.txt\n",
      "data_part_4.txt\n",
      "data_part_4.txt\n",
      "data_part_5.txt\n",
      "data_part_5.txt\n",
      "data_part_6.txt\n",
      "data_part_6.txt\n",
      "data_part_7.txt\n",
      "data_part_7.txt\n",
      "data_part_8.txt\n",
      "data_part_8.txt\n",
      "data_part_9.txt\n",
      "data_part_9.txt\n"
     ]
    }
   ],
   "source": [
    "import threading\n",
    "import os\n",
    "#define R & W fun\n",
    "thread_use = True   \n",
    "\n",
    "def read_and_write_file(file):\n",
    "    if thread_use:\n",
    "        print(thread.name)\n",
    "\n",
    "    with threading.Lock() as lock:\n",
    "        cortName = (f\"./data/{file}\")\n",
    "        with open('data_all.txt', 'a') as out, open(cortName,'r') as f:\n",
    "            out.write(f.read())\n",
    "\n",
    "folderPath = os.path.abspath(\"./\")\n",
    "fileNames = os.listdir('./data')\n",
    "\n",
    "# work with thread\n",
    "for current_file in fileNames:\n",
    "    print(current_file)\n",
    "\n",
    "    thread = threading.Thread(target = read_and_write_file, args = (current_file,), name = current_file)\n",
    "    thread.start()"
   ]
  },
  {
   "cell_type": "markdown",
   "metadata": {},
   "source": [
    "### Exercise 2\n",
    "Scrap all the web pages in the `urls` list and display the links. 1 thread per link. "
   ]
  },
  {
   "cell_type": "code",
   "execution_count": 1,
   "metadata": {},
   "outputs": [],
   "source": [
    "urls = [\n",
    "    \"http://www.python.org\",\n",
    "    \"http://www.python.org/about/\",\n",
    "    \"http://www.onlamp.com/pub/a/python/2003/04/17/metaclasses.html\",\n",
    "    \"http://www.python.org/doc/\",\n",
    "    \"http://www.python.org/download/\",\n",
    "    \"http://www.python.org/getit/\",\n",
    "    \"http://www.python.org/community/\",\n",
    "    \"https://wiki.python.org/moin/\",\n",
    "]"
   ]
  },
  {
   "cell_type": "code",
   "execution_count": null,
   "metadata": {},
   "outputs": [],
   "source": []
  }
 ],
 "metadata": {
  "file_extension": ".py",
  "interpreter": {
   "hash": "26de051ba29f2982a8de78e945f0abaf191376122a1563185a90213a26c5da77"
  },
  "kernelspec": {
   "display_name": "Python 3.10.2 64-bit",
   "language": "python",
   "name": "python3"
  },
  "language_info": {
   "codemirror_mode": {
    "name": "ipython",
    "version": 3
   },
   "file_extension": ".py",
   "mimetype": "text/x-python",
   "name": "python",
   "nbconvert_exporter": "python",
   "pygments_lexer": "ipython3",
   "version": "3.10.2"
  },
  "mimetype": "text/x-python",
  "name": "python",
  "npconvert_exporter": "python",
  "pygments_lexer": "ipython3",
  "version": 3
 },
 "nbformat": 4,
 "nbformat_minor": 2
}
