{
 "cells": [
  {
   "cell_type": "markdown",
   "metadata": {},
   "source": [
    "# Getting Financial Data - Google Finance"
   ]
  },
  {
   "cell_type": "markdown",
   "metadata": {},
   "source": [
    "### Introduction:\n",
    "\n",
    "This time you will get data from a website.\n",
    "\n",
    "\n",
    "### Step 1. Import the necessary libraries"
   ]
  },
  {
   "cell_type": "code",
   "execution_count": 1,
   "metadata": {
    "collapsed": false
   },
   "outputs": [],
   "source": [
    "import pandas as pd\n",
    "\n",
    "# package to extract data from various Internet sources into a DataFrame\n",
    "# make sure you have it installed\n",
    "from pandas_datareader import data, wb\n",
    "\n",
    "# package for dates\n",
    "import datetime as dt"
   ]
  },
  {
   "cell_type": "markdown",
   "metadata": {},
   "source": [
    "### Step 2. Create your time range (start and end variables). The start date should be 01/01/2015 and the end should today (whatever your today is)"
   ]
  },
  {
   "cell_type": "code",
   "execution_count": 2,
   "metadata": {
    "collapsed": false
   },
   "outputs": [
    {
     "name": "stdout",
     "output_type": "stream",
     "text": [
      "2015-01-01 00:00:00\n",
      "2022-05-25 00:00:00\n"
     ]
    }
   ],
   "source": [
    "start = dt.datetime(2015, 1, 1)\n",
    "\n",
    "end = dt.datetime(2022, 5, 25)\n",
    "\n",
    "print(start)\n",
    "print(end)"
   ]
  },
  {
   "cell_type": "markdown",
   "metadata": {},
   "source": [
    "### Step 3. Select the Apple, Tesla, Twitter, IBM, LinkedIn stocks symbols and assign them to a variable called stocks"
   ]
  },
  {
   "cell_type": "code",
   "execution_count": 3,
   "metadata": {
    "collapsed": false
   },
   "outputs": [
    {
     "data": {
      "text/plain": [
       "['AAPL', 'TSLA', 'TWTR', 'IBM', 'LNKD']"
      ]
     },
     "execution_count": 3,
     "metadata": {},
     "output_type": "execute_result"
    }
   ],
   "source": [
    "stocks = ['AAPL', 'TSLA', 'TWTR' , 'IBM' , 'LNKD']\n",
    "stocks"
   ]
  },
  {
   "cell_type": "markdown",
   "metadata": {},
   "source": [
    "### Step 4. Read the data from google, assign to df and print it"
   ]
  },
  {
   "cell_type": "code",
   "execution_count": 4,
   "metadata": {
    "collapsed": false
   },
   "outputs": [
    {
     "name": "stderr",
     "output_type": "stream",
     "text": [
      "C:\\Users\\himan\\AppData\\Roaming\\Python\\Python310\\site-packages\\pandas_datareader\\base.py:272: SymbolWarning: Failed to read symbol: 'LNKD', replacing with NaN.\n",
      "  warnings.warn(msg.format(sym), SymbolWarning)\n"
     ]
    },
    {
     "data": {
      "text/html": [
       "<div>\n",
       "<style scoped>\n",
       "    .dataframe tbody tr th:only-of-type {\n",
       "        vertical-align: middle;\n",
       "    }\n",
       "\n",
       "    .dataframe tbody tr th {\n",
       "        vertical-align: top;\n",
       "    }\n",
       "\n",
       "    .dataframe thead tr th {\n",
       "        text-align: left;\n",
       "    }\n",
       "\n",
       "    .dataframe thead tr:last-of-type th {\n",
       "        text-align: right;\n",
       "    }\n",
       "</style>\n",
       "<table border=\"1\" class=\"dataframe\">\n",
       "  <thead>\n",
       "    <tr>\n",
       "      <th>Attributes</th>\n",
       "      <th colspan=\"5\" halign=\"left\">Adj Close</th>\n",
       "      <th colspan=\"5\" halign=\"left\">Close</th>\n",
       "      <th>...</th>\n",
       "      <th colspan=\"5\" halign=\"left\">Open</th>\n",
       "      <th colspan=\"5\" halign=\"left\">Volume</th>\n",
       "    </tr>\n",
       "    <tr>\n",
       "      <th>Symbols</th>\n",
       "      <th>AAPL</th>\n",
       "      <th>TSLA</th>\n",
       "      <th>TWTR</th>\n",
       "      <th>IBM</th>\n",
       "      <th>LNKD</th>\n",
       "      <th>AAPL</th>\n",
       "      <th>TSLA</th>\n",
       "      <th>TWTR</th>\n",
       "      <th>IBM</th>\n",
       "      <th>LNKD</th>\n",
       "      <th>...</th>\n",
       "      <th>AAPL</th>\n",
       "      <th>TSLA</th>\n",
       "      <th>TWTR</th>\n",
       "      <th>IBM</th>\n",
       "      <th>LNKD</th>\n",
       "      <th>AAPL</th>\n",
       "      <th>TSLA</th>\n",
       "      <th>TWTR</th>\n",
       "      <th>IBM</th>\n",
       "      <th>LNKD</th>\n",
       "    </tr>\n",
       "    <tr>\n",
       "      <th>Date</th>\n",
       "      <th></th>\n",
       "      <th></th>\n",
       "      <th></th>\n",
       "      <th></th>\n",
       "      <th></th>\n",
       "      <th></th>\n",
       "      <th></th>\n",
       "      <th></th>\n",
       "      <th></th>\n",
       "      <th></th>\n",
       "      <th></th>\n",
       "      <th></th>\n",
       "      <th></th>\n",
       "      <th></th>\n",
       "      <th></th>\n",
       "      <th></th>\n",
       "      <th></th>\n",
       "      <th></th>\n",
       "      <th></th>\n",
       "      <th></th>\n",
       "      <th></th>\n",
       "    </tr>\n",
       "  </thead>\n",
       "  <tbody>\n",
       "    <tr>\n",
       "      <th>2015-01-02</th>\n",
       "      <td>24.678251</td>\n",
       "      <td>43.862000</td>\n",
       "      <td>36.560001</td>\n",
       "      <td>112.178070</td>\n",
       "      <td>NaN</td>\n",
       "      <td>27.332500</td>\n",
       "      <td>43.862000</td>\n",
       "      <td>36.560001</td>\n",
       "      <td>154.933075</td>\n",
       "      <td>NaN</td>\n",
       "      <td>...</td>\n",
       "      <td>27.847500</td>\n",
       "      <td>44.574001</td>\n",
       "      <td>36.230000</td>\n",
       "      <td>154.216064</td>\n",
       "      <td>NaN</td>\n",
       "      <td>212818400.0</td>\n",
       "      <td>23822000.0</td>\n",
       "      <td>12062500.0</td>\n",
       "      <td>5779673.0</td>\n",
       "      <td>NaN</td>\n",
       "    </tr>\n",
       "    <tr>\n",
       "      <th>2015-01-05</th>\n",
       "      <td>23.983027</td>\n",
       "      <td>42.018002</td>\n",
       "      <td>36.380001</td>\n",
       "      <td>110.412979</td>\n",
       "      <td>NaN</td>\n",
       "      <td>26.562500</td>\n",
       "      <td>42.018002</td>\n",
       "      <td>36.380001</td>\n",
       "      <td>152.495224</td>\n",
       "      <td>NaN</td>\n",
       "      <td>...</td>\n",
       "      <td>27.072500</td>\n",
       "      <td>42.910000</td>\n",
       "      <td>36.259998</td>\n",
       "      <td>154.177826</td>\n",
       "      <td>NaN</td>\n",
       "      <td>257142000.0</td>\n",
       "      <td>26842500.0</td>\n",
       "      <td>15062700.0</td>\n",
       "      <td>5104898.0</td>\n",
       "      <td>NaN</td>\n",
       "    </tr>\n",
       "    <tr>\n",
       "      <th>2015-01-06</th>\n",
       "      <td>23.985277</td>\n",
       "      <td>42.256001</td>\n",
       "      <td>38.759998</td>\n",
       "      <td>108.031815</td>\n",
       "      <td>NaN</td>\n",
       "      <td>26.565001</td>\n",
       "      <td>42.256001</td>\n",
       "      <td>38.759998</td>\n",
       "      <td>149.206497</td>\n",
       "      <td>NaN</td>\n",
       "      <td>...</td>\n",
       "      <td>26.635000</td>\n",
       "      <td>42.012001</td>\n",
       "      <td>36.270000</td>\n",
       "      <td>152.648178</td>\n",
       "      <td>NaN</td>\n",
       "      <td>263188400.0</td>\n",
       "      <td>31309500.0</td>\n",
       "      <td>33050800.0</td>\n",
       "      <td>6429448.0</td>\n",
       "      <td>NaN</td>\n",
       "    </tr>\n",
       "    <tr>\n",
       "      <th>2015-01-07</th>\n",
       "      <td>24.321606</td>\n",
       "      <td>42.189999</td>\n",
       "      <td>37.279999</td>\n",
       "      <td>107.325775</td>\n",
       "      <td>NaN</td>\n",
       "      <td>26.937500</td>\n",
       "      <td>42.189999</td>\n",
       "      <td>37.279999</td>\n",
       "      <td>148.231354</td>\n",
       "      <td>NaN</td>\n",
       "      <td>...</td>\n",
       "      <td>26.799999</td>\n",
       "      <td>42.669998</td>\n",
       "      <td>39.099998</td>\n",
       "      <td>150.286804</td>\n",
       "      <td>NaN</td>\n",
       "      <td>160423600.0</td>\n",
       "      <td>14842000.0</td>\n",
       "      <td>22675700.0</td>\n",
       "      <td>4918083.0</td>\n",
       "      <td>NaN</td>\n",
       "    </tr>\n",
       "    <tr>\n",
       "      <th>2015-01-08</th>\n",
       "      <td>25.256104</td>\n",
       "      <td>42.124001</td>\n",
       "      <td>39.090000</td>\n",
       "      <td>109.658463</td>\n",
       "      <td>NaN</td>\n",
       "      <td>27.972500</td>\n",
       "      <td>42.124001</td>\n",
       "      <td>39.090000</td>\n",
       "      <td>151.453156</td>\n",
       "      <td>NaN</td>\n",
       "      <td>...</td>\n",
       "      <td>27.307501</td>\n",
       "      <td>42.562000</td>\n",
       "      <td>37.419998</td>\n",
       "      <td>149.369019</td>\n",
       "      <td>NaN</td>\n",
       "      <td>237458000.0</td>\n",
       "      <td>17212500.0</td>\n",
       "      <td>19190400.0</td>\n",
       "      <td>4431693.0</td>\n",
       "      <td>NaN</td>\n",
       "    </tr>\n",
       "    <tr>\n",
       "      <th>...</th>\n",
       "      <td>...</td>\n",
       "      <td>...</td>\n",
       "      <td>...</td>\n",
       "      <td>...</td>\n",
       "      <td>...</td>\n",
       "      <td>...</td>\n",
       "      <td>...</td>\n",
       "      <td>...</td>\n",
       "      <td>...</td>\n",
       "      <td>...</td>\n",
       "      <td>...</td>\n",
       "      <td>...</td>\n",
       "      <td>...</td>\n",
       "      <td>...</td>\n",
       "      <td>...</td>\n",
       "      <td>...</td>\n",
       "      <td>...</td>\n",
       "      <td>...</td>\n",
       "      <td>...</td>\n",
       "      <td>...</td>\n",
       "      <td>...</td>\n",
       "    </tr>\n",
       "    <tr>\n",
       "      <th>2022-05-18</th>\n",
       "      <td>140.820007</td>\n",
       "      <td>709.809998</td>\n",
       "      <td>36.849998</td>\n",
       "      <td>132.940002</td>\n",
       "      <td>NaN</td>\n",
       "      <td>140.820007</td>\n",
       "      <td>709.809998</td>\n",
       "      <td>36.849998</td>\n",
       "      <td>132.940002</td>\n",
       "      <td>NaN</td>\n",
       "      <td>...</td>\n",
       "      <td>146.850006</td>\n",
       "      <td>744.520020</td>\n",
       "      <td>37.419998</td>\n",
       "      <td>137.100006</td>\n",
       "      <td>NaN</td>\n",
       "      <td>109742900.0</td>\n",
       "      <td>29270600.0</td>\n",
       "      <td>24010300.0</td>\n",
       "      <td>6003000.0</td>\n",
       "      <td>NaN</td>\n",
       "    </tr>\n",
       "    <tr>\n",
       "      <th>2022-05-19</th>\n",
       "      <td>137.350006</td>\n",
       "      <td>709.419983</td>\n",
       "      <td>37.290001</td>\n",
       "      <td>129.660004</td>\n",
       "      <td>NaN</td>\n",
       "      <td>137.350006</td>\n",
       "      <td>709.419983</td>\n",
       "      <td>37.290001</td>\n",
       "      <td>129.660004</td>\n",
       "      <td>NaN</td>\n",
       "      <td>...</td>\n",
       "      <td>139.880005</td>\n",
       "      <td>707.000000</td>\n",
       "      <td>36.759998</td>\n",
       "      <td>132.000000</td>\n",
       "      <td>NaN</td>\n",
       "      <td>136095600.0</td>\n",
       "      <td>30098900.0</td>\n",
       "      <td>32000300.0</td>\n",
       "      <td>5819700.0</td>\n",
       "      <td>NaN</td>\n",
       "    </tr>\n",
       "    <tr>\n",
       "      <th>2022-05-20</th>\n",
       "      <td>137.589996</td>\n",
       "      <td>663.900024</td>\n",
       "      <td>38.290001</td>\n",
       "      <td>128.479996</td>\n",
       "      <td>NaN</td>\n",
       "      <td>137.589996</td>\n",
       "      <td>663.900024</td>\n",
       "      <td>38.290001</td>\n",
       "      <td>128.479996</td>\n",
       "      <td>NaN</td>\n",
       "      <td>...</td>\n",
       "      <td>139.089996</td>\n",
       "      <td>713.989990</td>\n",
       "      <td>37.770000</td>\n",
       "      <td>130.179993</td>\n",
       "      <td>NaN</td>\n",
       "      <td>137194600.0</td>\n",
       "      <td>48190600.0</td>\n",
       "      <td>23584000.0</td>\n",
       "      <td>6912900.0</td>\n",
       "      <td>NaN</td>\n",
       "    </tr>\n",
       "    <tr>\n",
       "      <th>2022-05-23</th>\n",
       "      <td>143.110001</td>\n",
       "      <td>674.900024</td>\n",
       "      <td>37.860001</td>\n",
       "      <td>131.169998</td>\n",
       "      <td>NaN</td>\n",
       "      <td>143.110001</td>\n",
       "      <td>674.900024</td>\n",
       "      <td>37.860001</td>\n",
       "      <td>131.169998</td>\n",
       "      <td>NaN</td>\n",
       "      <td>...</td>\n",
       "      <td>137.789993</td>\n",
       "      <td>655.020020</td>\n",
       "      <td>37.770000</td>\n",
       "      <td>129.500000</td>\n",
       "      <td>NaN</td>\n",
       "      <td>117726300.0</td>\n",
       "      <td>29634500.0</td>\n",
       "      <td>13601300.0</td>\n",
       "      <td>3591500.0</td>\n",
       "      <td>NaN</td>\n",
       "    </tr>\n",
       "    <tr>\n",
       "      <th>2022-05-24</th>\n",
       "      <td>140.360001</td>\n",
       "      <td>628.159973</td>\n",
       "      <td>35.759998</td>\n",
       "      <td>133.800003</td>\n",
       "      <td>NaN</td>\n",
       "      <td>140.360001</td>\n",
       "      <td>628.159973</td>\n",
       "      <td>35.759998</td>\n",
       "      <td>133.800003</td>\n",
       "      <td>NaN</td>\n",
       "      <td>...</td>\n",
       "      <td>140.809998</td>\n",
       "      <td>653.530029</td>\n",
       "      <td>36.939999</td>\n",
       "      <td>130.570007</td>\n",
       "      <td>NaN</td>\n",
       "      <td>103890900.0</td>\n",
       "      <td>29498700.0</td>\n",
       "      <td>22644800.0</td>\n",
       "      <td>4188500.0</td>\n",
       "      <td>NaN</td>\n",
       "    </tr>\n",
       "  </tbody>\n",
       "</table>\n",
       "<p>1862 rows × 30 columns</p>\n",
       "</div>"
      ],
      "text/plain": [
       "Attributes   Adj Close                                               Close  \\\n",
       "Symbols           AAPL        TSLA       TWTR         IBM LNKD        AAPL   \n",
       "Date                                                                         \n",
       "2015-01-02   24.678251   43.862000  36.560001  112.178070  NaN   27.332500   \n",
       "2015-01-05   23.983027   42.018002  36.380001  110.412979  NaN   26.562500   \n",
       "2015-01-06   23.985277   42.256001  38.759998  108.031815  NaN   26.565001   \n",
       "2015-01-07   24.321606   42.189999  37.279999  107.325775  NaN   26.937500   \n",
       "2015-01-08   25.256104   42.124001  39.090000  109.658463  NaN   27.972500   \n",
       "...                ...         ...        ...         ...  ...         ...   \n",
       "2022-05-18  140.820007  709.809998  36.849998  132.940002  NaN  140.820007   \n",
       "2022-05-19  137.350006  709.419983  37.290001  129.660004  NaN  137.350006   \n",
       "2022-05-20  137.589996  663.900024  38.290001  128.479996  NaN  137.589996   \n",
       "2022-05-23  143.110001  674.900024  37.860001  131.169998  NaN  143.110001   \n",
       "2022-05-24  140.360001  628.159973  35.759998  133.800003  NaN  140.360001   \n",
       "\n",
       "Attributes                                          ...        Open  \\\n",
       "Symbols           TSLA       TWTR         IBM LNKD  ...        AAPL   \n",
       "Date                                                ...               \n",
       "2015-01-02   43.862000  36.560001  154.933075  NaN  ...   27.847500   \n",
       "2015-01-05   42.018002  36.380001  152.495224  NaN  ...   27.072500   \n",
       "2015-01-06   42.256001  38.759998  149.206497  NaN  ...   26.635000   \n",
       "2015-01-07   42.189999  37.279999  148.231354  NaN  ...   26.799999   \n",
       "2015-01-08   42.124001  39.090000  151.453156  NaN  ...   27.307501   \n",
       "...                ...        ...         ...  ...  ...         ...   \n",
       "2022-05-18  709.809998  36.849998  132.940002  NaN  ...  146.850006   \n",
       "2022-05-19  709.419983  37.290001  129.660004  NaN  ...  139.880005   \n",
       "2022-05-20  663.900024  38.290001  128.479996  NaN  ...  139.089996   \n",
       "2022-05-23  674.900024  37.860001  131.169998  NaN  ...  137.789993   \n",
       "2022-05-24  628.159973  35.759998  133.800003  NaN  ...  140.809998   \n",
       "\n",
       "Attributes                                               Volume              \\\n",
       "Symbols           TSLA       TWTR         IBM LNKD         AAPL        TSLA   \n",
       "Date                                                                          \n",
       "2015-01-02   44.574001  36.230000  154.216064  NaN  212818400.0  23822000.0   \n",
       "2015-01-05   42.910000  36.259998  154.177826  NaN  257142000.0  26842500.0   \n",
       "2015-01-06   42.012001  36.270000  152.648178  NaN  263188400.0  31309500.0   \n",
       "2015-01-07   42.669998  39.099998  150.286804  NaN  160423600.0  14842000.0   \n",
       "2015-01-08   42.562000  37.419998  149.369019  NaN  237458000.0  17212500.0   \n",
       "...                ...        ...         ...  ...          ...         ...   \n",
       "2022-05-18  744.520020  37.419998  137.100006  NaN  109742900.0  29270600.0   \n",
       "2022-05-19  707.000000  36.759998  132.000000  NaN  136095600.0  30098900.0   \n",
       "2022-05-20  713.989990  37.770000  130.179993  NaN  137194600.0  48190600.0   \n",
       "2022-05-23  655.020020  37.770000  129.500000  NaN  117726300.0  29634500.0   \n",
       "2022-05-24  653.530029  36.939999  130.570007  NaN  103890900.0  29498700.0   \n",
       "\n",
       "Attributes                              \n",
       "Symbols           TWTR        IBM LNKD  \n",
       "Date                                    \n",
       "2015-01-02  12062500.0  5779673.0  NaN  \n",
       "2015-01-05  15062700.0  5104898.0  NaN  \n",
       "2015-01-06  33050800.0  6429448.0  NaN  \n",
       "2015-01-07  22675700.0  4918083.0  NaN  \n",
       "2015-01-08  19190400.0  4431693.0  NaN  \n",
       "...                ...        ...  ...  \n",
       "2022-05-18  24010300.0  6003000.0  NaN  \n",
       "2022-05-19  32000300.0  5819700.0  NaN  \n",
       "2022-05-20  23584000.0  6912900.0  NaN  \n",
       "2022-05-23  13601300.0  3591500.0  NaN  \n",
       "2022-05-24  22644800.0  4188500.0  NaN  \n",
       "\n",
       "[1862 rows x 30 columns]"
      ]
     },
     "execution_count": 4,
     "metadata": {},
     "output_type": "execute_result"
    }
   ],
   "source": [
    "df = data.DataReader(stocks, 'yahoo', start, end)\n",
    "df"
   ]
  },
  {
   "cell_type": "markdown",
   "metadata": {},
   "source": [
    "### Step 5.  What is the type of structure of df ?"
   ]
  },
  {
   "cell_type": "code",
   "execution_count": 5,
   "metadata": {
    "collapsed": false
   },
   "outputs": [
    {
     "data": {
      "text/plain": [
       "pandas.core.frame.DataFrame"
      ]
     },
     "execution_count": 5,
     "metadata": {},
     "output_type": "execute_result"
    }
   ],
   "source": [
    "type(df)"
   ]
  },
  {
   "cell_type": "markdown",
   "metadata": {},
   "source": [
    "### Step 6. Print all the Items axis values\n",
    "#### To learn more about the Panel structure go to [documentation](http://pandas.pydata.org/pandas-docs/stable/dsintro.html#panel) "
   ]
  },
  {
   "cell_type": "code",
   "execution_count": 6,
   "metadata": {},
   "outputs": [
    {
     "data": {
      "text/plain": [
       "DatetimeIndex(['2015-01-02', '2015-01-05', '2015-01-06', '2015-01-07',\n",
       "               '2015-01-08', '2015-01-09', '2015-01-12', '2015-01-13',\n",
       "               '2015-01-14', '2015-01-15',\n",
       "               ...\n",
       "               '2022-05-11', '2022-05-12', '2022-05-13', '2022-05-16',\n",
       "               '2022-05-17', '2022-05-18', '2022-05-19', '2022-05-20',\n",
       "               '2022-05-23', '2022-05-24'],\n",
       "              dtype='datetime64[ns]', name='Date', length=1862, freq=None)"
      ]
     },
     "execution_count": 6,
     "metadata": {},
     "output_type": "execute_result"
    }
   ],
   "source": [
    "df.index"
   ]
  },
  {
   "cell_type": "code",
   "execution_count": 7,
   "metadata": {
    "collapsed": false
   },
   "outputs": [
    {
     "data": {
      "text/plain": [
       "Index(['Adj Close', 'Close', 'High', 'Low', 'Open', 'Volume'], dtype='object', name='Attributes')"
      ]
     },
     "execution_count": 7,
     "metadata": {},
     "output_type": "execute_result"
    }
   ],
   "source": [
    "df.columns.levels[0]"
   ]
  },
  {
   "cell_type": "markdown",
   "metadata": {},
   "source": [
    "### Step 7. Good, now we know  the data avaiable. Create a dataFrame called vol, with the Volume values."
   ]
  },
  {
   "cell_type": "code",
   "execution_count": 8,
   "metadata": {
    "collapsed": false
   },
   "outputs": [
    {
     "data": {
      "text/html": [
       "<div>\n",
       "<style scoped>\n",
       "    .dataframe tbody tr th:only-of-type {\n",
       "        vertical-align: middle;\n",
       "    }\n",
       "\n",
       "    .dataframe tbody tr th {\n",
       "        vertical-align: top;\n",
       "    }\n",
       "\n",
       "    .dataframe thead th {\n",
       "        text-align: right;\n",
       "    }\n",
       "</style>\n",
       "<table border=\"1\" class=\"dataframe\">\n",
       "  <thead>\n",
       "    <tr style=\"text-align: right;\">\n",
       "      <th>Symbols</th>\n",
       "      <th>AAPL</th>\n",
       "      <th>TSLA</th>\n",
       "      <th>TWTR</th>\n",
       "      <th>IBM</th>\n",
       "      <th>LNKD</th>\n",
       "    </tr>\n",
       "    <tr>\n",
       "      <th>Date</th>\n",
       "      <th></th>\n",
       "      <th></th>\n",
       "      <th></th>\n",
       "      <th></th>\n",
       "      <th></th>\n",
       "    </tr>\n",
       "  </thead>\n",
       "  <tbody>\n",
       "    <tr>\n",
       "      <th>2015-01-02</th>\n",
       "      <td>212818400.0</td>\n",
       "      <td>23822000.0</td>\n",
       "      <td>12062500.0</td>\n",
       "      <td>5779673.0</td>\n",
       "      <td>NaN</td>\n",
       "    </tr>\n",
       "    <tr>\n",
       "      <th>2015-01-05</th>\n",
       "      <td>257142000.0</td>\n",
       "      <td>26842500.0</td>\n",
       "      <td>15062700.0</td>\n",
       "      <td>5104898.0</td>\n",
       "      <td>NaN</td>\n",
       "    </tr>\n",
       "    <tr>\n",
       "      <th>2015-01-06</th>\n",
       "      <td>263188400.0</td>\n",
       "      <td>31309500.0</td>\n",
       "      <td>33050800.0</td>\n",
       "      <td>6429448.0</td>\n",
       "      <td>NaN</td>\n",
       "    </tr>\n",
       "    <tr>\n",
       "      <th>2015-01-07</th>\n",
       "      <td>160423600.0</td>\n",
       "      <td>14842000.0</td>\n",
       "      <td>22675700.0</td>\n",
       "      <td>4918083.0</td>\n",
       "      <td>NaN</td>\n",
       "    </tr>\n",
       "    <tr>\n",
       "      <th>2015-01-08</th>\n",
       "      <td>237458000.0</td>\n",
       "      <td>17212500.0</td>\n",
       "      <td>19190400.0</td>\n",
       "      <td>4431693.0</td>\n",
       "      <td>NaN</td>\n",
       "    </tr>\n",
       "  </tbody>\n",
       "</table>\n",
       "</div>"
      ],
      "text/plain": [
       "Symbols            AAPL        TSLA        TWTR        IBM  LNKD\n",
       "Date                                                            \n",
       "2015-01-02  212818400.0  23822000.0  12062500.0  5779673.0   NaN\n",
       "2015-01-05  257142000.0  26842500.0  15062700.0  5104898.0   NaN\n",
       "2015-01-06  263188400.0  31309500.0  33050800.0  6429448.0   NaN\n",
       "2015-01-07  160423600.0  14842000.0  22675700.0  4918083.0   NaN\n",
       "2015-01-08  237458000.0  17212500.0  19190400.0  4431693.0   NaN"
      ]
     },
     "execution_count": 8,
     "metadata": {},
     "output_type": "execute_result"
    }
   ],
   "source": [
    "vol = df.Volume\n",
    "vol.head()"
   ]
  },
  {
   "cell_type": "markdown",
   "metadata": {},
   "source": [
    "### Step 8. Aggregate the data of Volume to weekly\n",
    "#### Hint: Be careful to not sum data from the same week of 2015 and other years."
   ]
  },
  {
   "cell_type": "code",
   "execution_count": 9,
   "metadata": {},
   "outputs": [
    {
     "name": "stderr",
     "output_type": "stream",
     "text": [
      "C:\\Users\\himan\\AppData\\Local\\Temp\\ipykernel_11576\\60387489.py:1: FutureWarning: weekofyear and week have been deprecated, please use DatetimeIndex.isocalendar().week instead, which returns a Series. To exactly reproduce the behavior of week and weekofyear and return an Index, you may call pd.Int64Index(idx.isocalendar().week)\n",
      "  vol['week'] = vol.index.week\n",
      "C:\\Users\\himan\\AppData\\Local\\Temp\\ipykernel_11576\\60387489.py:1: SettingWithCopyWarning: \n",
      "A value is trying to be set on a copy of a slice from a DataFrame.\n",
      "Try using .loc[row_indexer,col_indexer] = value instead\n",
      "\n",
      "See the caveats in the documentation: https://pandas.pydata.org/pandas-docs/stable/user_guide/indexing.html#returning-a-view-versus-a-copy\n",
      "  vol['week'] = vol.index.week\n",
      "C:\\Users\\himan\\AppData\\Local\\Temp\\ipykernel_11576\\60387489.py:2: SettingWithCopyWarning: \n",
      "A value is trying to be set on a copy of a slice from a DataFrame.\n",
      "Try using .loc[row_indexer,col_indexer] = value instead\n",
      "\n",
      "See the caveats in the documentation: https://pandas.pydata.org/pandas-docs/stable/user_guide/indexing.html#returning-a-view-versus-a-copy\n",
      "  vol['year'] = vol.index.year\n"
     ]
    },
    {
     "data": {
      "text/html": [
       "<div>\n",
       "<style scoped>\n",
       "    .dataframe tbody tr th:only-of-type {\n",
       "        vertical-align: middle;\n",
       "    }\n",
       "\n",
       "    .dataframe tbody tr th {\n",
       "        vertical-align: top;\n",
       "    }\n",
       "\n",
       "    .dataframe thead th {\n",
       "        text-align: right;\n",
       "    }\n",
       "</style>\n",
       "<table border=\"1\" class=\"dataframe\">\n",
       "  <thead>\n",
       "    <tr style=\"text-align: right;\">\n",
       "      <th></th>\n",
       "      <th>Symbols</th>\n",
       "      <th>AAPL</th>\n",
       "      <th>TSLA</th>\n",
       "      <th>TWTR</th>\n",
       "      <th>IBM</th>\n",
       "      <th>LNKD</th>\n",
       "    </tr>\n",
       "    <tr>\n",
       "      <th>week</th>\n",
       "      <th>year</th>\n",
       "      <th></th>\n",
       "      <th></th>\n",
       "      <th></th>\n",
       "      <th></th>\n",
       "      <th></th>\n",
       "    </tr>\n",
       "  </thead>\n",
       "  <tbody>\n",
       "    <tr>\n",
       "      <th rowspan=\"5\" valign=\"top\">1</th>\n",
       "      <th>2015</th>\n",
       "      <td>2.128184e+08</td>\n",
       "      <td>23822000.0</td>\n",
       "      <td>12062500.0</td>\n",
       "      <td>5779673.0</td>\n",
       "      <td>0.0</td>\n",
       "    </tr>\n",
       "    <tr>\n",
       "      <th>2016</th>\n",
       "      <td>1.375161e+09</td>\n",
       "      <td>104877000.0</td>\n",
       "      <td>89028400.0</td>\n",
       "      <td>26415265.0</td>\n",
       "      <td>0.0</td>\n",
       "    </tr>\n",
       "    <tr>\n",
       "      <th>2017</th>\n",
       "      <td>4.153820e+08</td>\n",
       "      <td>142882000.0</td>\n",
       "      <td>58748700.0</td>\n",
       "      <td>12492901.0</td>\n",
       "      <td>0.0</td>\n",
       "    </tr>\n",
       "    <tr>\n",
       "      <th>2018</th>\n",
       "      <td>5.446876e+08</td>\n",
       "      <td>148567500.0</td>\n",
       "      <td>76711500.0</td>\n",
       "      <td>32822330.0</td>\n",
       "      <td>0.0</td>\n",
       "    </tr>\n",
       "    <tr>\n",
       "      <th>2019</th>\n",
       "      <td>9.927560e+08</td>\n",
       "      <td>244450000.0</td>\n",
       "      <td>77959800.0</td>\n",
       "      <td>21924996.0</td>\n",
       "      <td>0.0</td>\n",
       "    </tr>\n",
       "  </tbody>\n",
       "</table>\n",
       "</div>"
      ],
      "text/plain": [
       "Symbols            AAPL         TSLA        TWTR         IBM  LNKD\n",
       "week year                                                         \n",
       "1    2015  2.128184e+08   23822000.0  12062500.0   5779673.0   0.0\n",
       "     2016  1.375161e+09  104877000.0  89028400.0  26415265.0   0.0\n",
       "     2017  4.153820e+08  142882000.0  58748700.0  12492901.0   0.0\n",
       "     2018  5.446876e+08  148567500.0  76711500.0  32822330.0   0.0\n",
       "     2019  9.927560e+08  244450000.0  77959800.0  21924996.0   0.0"
      ]
     },
     "execution_count": 9,
     "metadata": {},
     "output_type": "execute_result"
    }
   ],
   "source": [
    "vol['week'] = vol.index.week\n",
    "vol['year'] = vol.index.year\n",
    "week = vol.groupby(['week' , 'year']).sum()\n",
    "week.head()"
   ]
  },
  {
   "cell_type": "markdown",
   "metadata": {},
   "source": [
    "### Step 9. Find all the volume traded in the year of 2015"
   ]
  },
  {
   "cell_type": "code",
   "execution_count": 11,
   "metadata": {
    "collapsed": false
   },
   "outputs": [
    {
     "ename": "TypeError",
     "evalue": "'method' object is not subscriptable",
     "output_type": "error",
     "traceback": [
      "\u001b[1;31m---------------------------------------------------------------------------\u001b[0m",
      "\u001b[1;31mTypeError\u001b[0m                                 Traceback (most recent call last)",
      "\u001b[1;32mc:\\Users\\himan\\OneDrive\\Desktop\\BeCode\\BeCodeWorkHim\\content\\3.data_tools\\pandas\\01.drill\\pandas_exercises\\08_Time_Series\\Getting_Financial_Data\\Exercises.ipynb Cell 20'\u001b[0m in \u001b[0;36m<cell line: 1>\u001b[1;34m()\u001b[0m\n\u001b[1;32m----> <a href='vscode-notebook-cell:/c%3A/Users/himan/OneDrive/Desktop/BeCode/BeCodeWorkHim/content/3.data_tools/pandas/01.drill/pandas_exercises/08_Time_Series/Getting_Financial_Data/Exercises.ipynb#ch0000019?line=0'>1</a>\u001b[0m week_2015 \u001b[39m=\u001b[39m vol\u001b[39m.\u001b[39;49mgroupby[vol\u001b[39m.\u001b[39;49myear\u001b[39m==\u001b[39;49m\u001b[39m2015\u001b[39;49m]\u001b[39m.\u001b[39msum()\n\u001b[0;32m      <a href='vscode-notebook-cell:/c%3A/Users/himan/OneDrive/Desktop/BeCode/BeCodeWorkHim/content/3.data_tools/pandas/01.drill/pandas_exercises/08_Time_Series/Getting_Financial_Data/Exercises.ipynb#ch0000019?line=1'>2</a>\u001b[0m week_2015\n",
      "\u001b[1;31mTypeError\u001b[0m: 'method' object is not subscriptable"
     ]
    }
   ],
   "source": [
    "week_2015 = vol.groupby[vol.year==2015].sum()\n",
    "week_2015\n",
    "\n",
    "#year=vol[vol.year==2015].sum()"
   ]
  },
  {
   "cell_type": "markdown",
   "metadata": {},
   "source": [
    "### BONUS: Create your own question and answer it."
   ]
  },
  {
   "cell_type": "code",
   "execution_count": null,
   "metadata": {
    "collapsed": true
   },
   "outputs": [],
   "source": []
  }
 ],
 "metadata": {
  "interpreter": {
   "hash": "26de051ba29f2982a8de78e945f0abaf191376122a1563185a90213a26c5da77"
  },
  "kernelspec": {
   "display_name": "Python 3.10.2 64-bit",
   "language": "python",
   "name": "python3"
  },
  "language_info": {
   "codemirror_mode": {
    "name": "ipython",
    "version": 3
   },
   "file_extension": ".py",
   "mimetype": "text/x-python",
   "name": "python",
   "nbconvert_exporter": "python",
   "pygments_lexer": "ipython3",
   "version": "3.10.2"
  }
 },
 "nbformat": 4,
 "nbformat_minor": 0
}
